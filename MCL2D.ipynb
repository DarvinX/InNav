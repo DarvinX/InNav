{
  "nbformat": 4,
  "nbformat_minor": 0,
  "metadata": {
    "colab": {
      "name": "MCL2D.ipynb",
      "provenance": [],
      "collapsed_sections": [],
      "authorship_tag": "ABX9TyPbL360HS5dBbJ0Mq/P0EZi",
      "include_colab_link": true
    },
    "kernelspec": {
      "name": "python3",
      "display_name": "Python 3"
    }
  },
  "cells": [
    {
      "cell_type": "markdown",
      "metadata": {
        "id": "view-in-github",
        "colab_type": "text"
      },
      "source": [
        "<a href=\"https://colab.research.google.com/github/DarvinX/InNav/blob/master/MCL2D.ipynb\" target=\"_parent\"><img src=\"https://colab.research.google.com/assets/colab-badge.svg\" alt=\"Open In Colab\"/></a>"
      ]
    },
    {
      "cell_type": "code",
      "metadata": {
        "id": "nxHwXElDMYur",
        "colab_type": "code",
        "colab": {}
      },
      "source": [
        "#imports\n",
        "import numpy as np\n",
        "from numpy import random\n",
        "import math\n",
        "import copy\n",
        "import matplotlib.pyplot as plt"
      ],
      "execution_count": 1,
      "outputs": []
    },
    {
      "cell_type": "code",
      "metadata": {
        "id": "HPWAOfOkM27N",
        "colab_type": "code",
        "colab": {}
      },
      "source": [
        "class Pose:\n",
        "  def __init__(self, x=0, y=0, theta=0):\n",
        "    self.x = x\n",
        "    self.y = y\n",
        "    self.theta = theta\n",
        "    self.cord = (self.x, self.y)\n",
        " \n",
        "  def __repr__(self):\n",
        "    return \"x=\"+str(self.x)+\", y=\"+str(self.y)+\", theta=\"+str(self.theta)"
      ],
      "execution_count": 2,
      "outputs": []
    },
    {
      "cell_type": "code",
      "metadata": {
        "id": "YtbSo6DvOT31",
        "colab_type": "code",
        "colab": {}
      },
      "source": [
        "class Noise:\n",
        "  def __init__(self,\n",
        "               linearNoise,\n",
        "               angularNoise):\n",
        "    self.linearNoise = linearNoise\n",
        "    self.angularNoise = angularNoise\n",
        "    \n",
        "  def addError(self, view_points):\n",
        "    res = []\n",
        "    for p in view_points:\n",
        "        #angle, distance = p\n",
        "        distance = p\n",
        "        #new_angle = angle + np.random.normal(0.0, self.angularNoise)\n",
        "        new_distance = distance + np.random.normal(0.0, self.linearNoise)\n",
        "        res.append((\n",
        "            #new_angle,\n",
        "             new_distance))\n",
        "    return res"
      ],
      "execution_count": 3,
      "outputs": []
    },
    {
      "cell_type": "code",
      "metadata": {
        "id": "NluAFvvNzKb3",
        "colab_type": "code",
        "colab": {}
      },
      "source": [
        "class Map:\n",
        "  def __init__(self, dim=(20,20)):\n",
        "    self.height = dim[0]\n",
        "    self.width = dim[1]\n",
        "    self.map = np.ones((self.height, self.width))\n",
        "    self.mapPoints = []\n",
        " \n",
        "  def addBlock(self, loc, color=0):\n",
        "    try:\n",
        "      self.map[int(loc[0])][int(loc[1])] = color\n",
        "      self.mapPoints.append(loc)\n",
        "    except:\n",
        "      pass\n",
        " \n",
        "  def draw(self):\n",
        "    plt.figure()\n",
        "    plt.imshow(self.map, cmap='gray')\n",
        "    plt.show()\n",
        "  \n",
        "  def getMapPints(self):\n",
        "    return list(zip(*np.where(self.map==0)))\n",
        " \n",
        "  def drawLine(self, \n",
        "               startPoint, \n",
        "               endPoint, \n",
        "               width=1, \n",
        "               show=False):\n",
        "    s_y = startPoint[0]\n",
        "    s_x = startPoint[1]\n",
        "    e_y = endPoint[0]\n",
        "    e_x = endPoint[1]\n",
        " \n",
        "    if s_y > self.height or s_y < 0 or \\\n",
        "       s_x > self.width or s_x < 0:\n",
        "      print(\"starting point out of boundary\")\n",
        " \n",
        "    if e_y > self.height or e_y < 0 or \\\n",
        "       e_x > self.width or e_x < 0:\n",
        "      print(\"end point out of boundary\")\n",
        "    \n",
        "    if s_x == e_x:\n",
        "      if s_y <= e_y:\n",
        "        for i in range(e_y-s_y):\n",
        "          try:\n",
        "            self.addBlock((s_x,s_y+i))\n",
        "          except:\n",
        "            pass\n",
        "    \n",
        "    if s_y == e_y:\n",
        "      if s_x <= e_x:\n",
        "        for i in range(e_x-s_x):\n",
        "          try:\n",
        "            self.addBlock((s_x+i,s_y))\n",
        "          except:\n",
        "            pass"
      ],
      "execution_count": 4,
      "outputs": []
    },
    {
      "cell_type": "code",
      "metadata": {
        "id": "FyryNiDy2Hei",
        "colab_type": "code",
        "colab": {}
      },
      "source": [
        "def defaultMap(): # build a default test map\n",
        "  N_map = 50\n",
        "  map = Map((N_map,N_map))\n",
        "  y = 0\n",
        "  map.drawLine((0,y),(9,y))\n",
        "  map.drawLine((15,y),(30,y))\n",
        "  map.drawLine((40,y),(50,y))\n",
        "\n",
        "  y = 10\n",
        "  map.drawLine((0,y),(15,y))\n",
        "  map.drawLine((35,y),(40,y))\n",
        "  map.drawLine((45,y),(50,y))\n",
        "\n",
        "  y= 25\n",
        "  map.drawLine((0,y),(9,y))\n",
        "  map.drawLine((30,y),(35,y))\n",
        "\n",
        "  y= 40\n",
        "  map.drawLine((0,y),(9,y))\n",
        "  map.drawLine((15,y),(30,y))\n",
        "  map.drawLine((40,y),(50,y))\n",
        "\n",
        "  ## x lines\n",
        "  x= 40\n",
        "  map.drawLine((x, 0),(x,12))\n",
        "  map.drawLine((x,30),(x,35))\n",
        "  map.drawLine((x,45),(x,50))\n",
        "\n",
        "  x= 30\n",
        "  map.drawLine((x, 0),(x,12))\n",
        "  map.drawLine((x,15),(x,25))\n",
        "  map.drawLine((x,45),(x,50))\n",
        "\n",
        "  x= 10\n",
        "  map.drawLine((x, 0),(x,12))\n",
        "  map.drawLine((x,25),(x,35))\n",
        "\n",
        "  x= 0\n",
        "  map.drawLine((x, 5),(x,12))\n",
        "  map.drawLine((x,30),(x,35))\n",
        "  return map"
      ],
      "execution_count": 5,
      "outputs": []
    },
    {
      "cell_type": "code",
      "metadata": {
        "id": "1s25wUCKEmms",
        "colab_type": "code",
        "colab": {
          "base_uri": "https://localhost:8080/",
          "height": 267
        },
        "outputId": "43d1ff5a-3e91-46b3-a14e-24add5c35cb3"
      },
      "source": [
        "map=defaultMap()\n",
        "map.draw()"
      ],
      "execution_count": 6,
      "outputs": [
        {
          "output_type": "display_data",
          "data": {
            "image/png": "[encoded data removed]",
            "text/plain": [
              "<Figure size 432x288 with 1 Axes>"
            ]
          },
          "metadata": {
            "tags": [],
            "needs_background": "light"
          }
        }
      ]
    },
    {
      "cell_type": "code",
      "metadata": {
        "id": "7aNX8Ml8Xk2i",
        "colab_type": "code",
        "colab": {}
      },
      "source": [
        ""
      ],
      "execution_count": 6,
      "outputs": []
    },
    {
      "cell_type": "code",
      "metadata": {
        "id": "dtPPDk2_Qhcw",
        "colab_type": "code",
        "colab": {}
      },
      "source": [
        "class Utility:\n",
        "  @staticmethod\n",
        "  def distance(a, b):\n",
        "    return np.linalg.norm(np.array([a.x, a.y]) - np.array([b.x,b.y]))\n",
        "  \n",
        "  @staticmethod\n",
        "  def Gaussian(mu, sigma, x):\n",
        "    #sigma is the gaussian noise measurement(standard deviation)\n",
        "    #sigma can't be zero, division by zero error\n",
        "    rtn = np.exp(-((mu-x)**2)/(sigma**2)/2.0)/np.sqrt(2.0*np.pi*(sigma**2))\n",
        "    #print(rtn)\n",
        "    return rtn\n",
        "\n"
      ],
      "execution_count": 7,
      "outputs": []
    },
    {
      "cell_type": "code",
      "metadata": {
        "id": "tPwEwaEByzxP",
        "colab_type": "code",
        "colab": {}
      },
      "source": [
        ""
      ],
      "execution_count": 7,
      "outputs": []
    },
    {
      "cell_type": "code",
      "metadata": {
        "id": "8yl2tgdsOtuw",
        "colab_type": "code",
        "colab": {}
      },
      "source": [
        "class Robot:\n",
        "  def __init__(self, pose,\n",
        "               linearNoise=5.5,\n",
        "               angularNoise=0.1,\n",
        "               map=map):\n",
        "\n",
        "    self.Pose = pose\n",
        "    self.Noise = Noise(linearNoise,\n",
        "                       angularNoise)\n",
        "    self.setSensorSpec()\n",
        "    self.mapPoints = []\n",
        "    self.setMap(map)\n",
        "    \n",
        "  def getPose(self):\n",
        "    return self.Pose\n",
        "\n",
        "  def setMap(self, map):\n",
        "    self.mapPoints = map.mapPoints\n",
        "\n",
        "  def setNoise(self, \n",
        "               linearNoise, \n",
        "               angularNoise,\n",
        "               ):\n",
        "    self.Noise = Noise(linearNoise,\n",
        "                       angularNoise,\n",
        "                       )\n",
        "  def prob(self, lidarScan):\n",
        "    scan = self.sense()\n",
        "\n",
        "    #for sc in scane\n",
        "\n",
        "  def setSensorSpec(self,\n",
        "                    angleSweep=math.pi/4,\n",
        "                    sweepNumber=8):\n",
        "    self.angleSweep = angleSweep\n",
        "    self.sweepNumber = sweepNumber\n",
        "\n",
        "  def angleAndDistance(self, robotLocation, pointLocation):\n",
        "    rx, ry = robotLocation\n",
        "    px, py = pointLocation\n",
        "    dx = px - rx\n",
        "    dy = py - ry\n",
        "    distance = math.sqrt(dx**2 + dy**2)\n",
        "    angle = math.atan2(dy, dx)\n",
        "    return (angle, distance)\n",
        "\n",
        "  def angleRange(self, center):\n",
        "    delta = self.angleSweep\n",
        "    n = self.sweepNumber\n",
        "    return [(center - delta) + delta * i / n for i in range(2 * n + 1)]\n",
        "\n",
        "  def closestPointInSwath(self, min_angle, max_angle, robotLocation):\n",
        "    pts = []\n",
        "    for p in self.mapPoints:\n",
        "        angle, distance = self.angleAndDistance(robotLocation, p)\n",
        "        if angle > min_angle and angle < max_angle:\n",
        "            pts.append(distance)\n",
        "    pts = sorted(pts)\n",
        "    if len(pts) > 0:\n",
        "        return pts[0]\n",
        "    return 0\n",
        "\n",
        "  def sense(self):\n",
        "    pts = []\n",
        "    angles = self.angleRange(self.Pose.theta)\n",
        "    delta = self.angleSweep / self.sweepNumber\n",
        "    for a in angles:\n",
        "        min_a = a - delta / 2.0\n",
        "        max_a = a + delta / 2.0\n",
        "        distance = self.closestPointInSwath(min_a, max_a, self.Pose.cord)\n",
        "        if distance is not None:\n",
        "            pts.append((\n",
        "                #a,\n",
        "                distance))\n",
        "    return self.Noise.addError(pts)\n",
        "\n",
        "  def moveTo(self, pose):\n",
        "    self.Pose = pose\n"
      ],
      "execution_count": 8,
      "outputs": []
    },
    {
      "cell_type": "code",
      "metadata": {
        "id": "FSFOKjT1awPX",
        "colab_type": "code",
        "colab": {
          "base_uri": "https://localhost:8080/",
          "height": 267
        },
        "outputId": "50926c19-fdcd-4806-edaa-9e8305bfb19d"
      },
      "source": [
        "r = Robot(Pose(2,2,0.1))\n",
        "d = r.sense()\n",
        "print(d)\n",
        "a = [i*math.pi/4 for i in range(len(d))]\n",
        "print(a)\n",
        "plt.scatter(a, d)"
      ],
      "execution_count": 9,
      "outputs": [
        {
          "output_type": "stream",
          "text": [
            "[-9.033604315107981, 9.878517264694732, 9.818172411011211, 4.314596114568655, 12.484048107885721, 13.010210698806649, 6.732034133889205, 11.672538264194404, 13.410668845614836, 12.132756879799976, 15.53529836325076, 4.745002446012357, 5.348307147830274, 16.122251604091637, 9.116516093824046, 10.25485962570076, 14.514440445036456]\n",
            "[0.0, 0.7853981633974483, 1.5707963267948966, 2.356194490192345, 3.141592653589793, 3.9269908169872414, 4.71238898038469, 5.497787143782138, 6.283185307179586, 7.0685834705770345, 7.853981633974483, 8.63937979737193, 9.42477796076938, 10.210176124166829, 10.995574287564276, 11.780972450961723, 12.566370614359172]\n"
          ],
          "name": "stdout"
        },
        {
          "output_type": "execute_result",
          "data": {
            "text/plain": [
              "<matplotlib.collections.PathCollection at 0x7f61dcf01c88>"
            ]
          },
          "metadata": {
            "tags": []
          },
          "execution_count": 9
        },
        {
          "output_type": "display_data",
          "data": {
            "image/png": "[encoded data removed]",
            "text/plain": [
              "<Figure size 432x288 with 1 Axes>"
            ]
          },
          "metadata": {
            "tags": [],
            "needs_background": "light"
          }
        }
      ]
    },
    {
      "cell_type": "code",
      "metadata": {
        "id": "6rkPyou-m526",
        "colab_type": "code",
        "colab": {}
      },
      "source": [
        "class Particle:\n",
        "  def __init__(self, pose):\n",
        "    self.Pose = Pose\n"
      ],
      "execution_count": 10,
      "outputs": []
    },
    {
      "cell_type": "code",
      "metadata": {
        "id": "h4V9zj_hfnED",
        "colab_type": "code",
        "colab": {}
      },
      "source": [
        "class Particles:\n",
        "  def __init__(self,\n",
        "               num_particles,\n",
        "               map,\n",
        "               robot):\n",
        "    self.num_particles = num_particles\n",
        "    self.maxHeight = map.height\n",
        "    self.maxWidth = map.width\n",
        "    self.map = map\n",
        "    self.robot = robot\n",
        "    self.linearNoise = self.robot.Noise.linearNoise\n",
        "    self.init()\n",
        "    self.Location_std = 3.0\n",
        "    self.Direction_std = 1.0\n",
        " \n",
        "  def init(self):\n",
        "    self.particles = []\n",
        "    for i in range(self.num_particles):\n",
        "      x = np.random.uniform(0, self.maxWidth)\n",
        "      y = np.random.uniform(0, self.maxHeight)\n",
        "      d = np.random.uniform(0.0, 2 * math.pi)\n",
        "      particle = Robot(Pose(x,y,d), )\n",
        "      self.particles.append(particle)\n",
        "  \n",
        "  def generateWeights(self, lidarScan):\n",
        "    weights = []\n",
        "    totalProb = 0\n",
        "    for ptl in self.particles:\n",
        "      d_p = ptl.sense()\n",
        "      #print(d_p)\n",
        "      weight = 1.0\n",
        "      for i in range(len(lidarScan)):\n",
        "        weight *= Utility.Gaussian(d_p[i], self.linearNoise, lidarScan[i])\n",
        "      #print(prob)\n",
        "      weights.append(weight)\n",
        "      totalProb += weight\n",
        "    \n",
        "    #print(totalProb)\n",
        "    if totalProb > 1:\n",
        "      return [weight/totalProb for weight in weights]\n",
        " \n",
        "    else:\n",
        "      return [1/float(len(weights)) for i in weights]\n",
        " \n",
        " \n",
        " \n",
        "  def Resample(self, weights):\n",
        "    newParticles = []\n",
        "    self.bestEst = self.particles[weights.index(max(weights))].Pose\n",
        "    print(weights)\n",
        "    indices = [i for i,_ in enumerate(weights)]\n",
        "    for i in indices:\n",
        "      selected_index = np.random.choice(indices, p=weights)\n",
        "      particle = self.particles[selected_index]\n",
        "      newParticles.append(particle)\n",
        "    self.particles = newParticles\n",
        " \n",
        "  def updateWeights(self, lidarScan):\n",
        "    weights = self.generateWeights(lidarScan)\n",
        "    #print(weights)\n",
        "    self.Resample(weights)\n",
        " \n",
        "  def updatePositions(self):\n",
        "    new_particles = []\n",
        "    for particle in self.particles:\n",
        "      p = copy.copy(particle)\n",
        "      x, y = p.Pose.cord\n",
        "      x += np.random.normal(0.0, self.Location_std)\n",
        "      y += np.random.normal(0.0, self.Location_std)\n",
        "      p.Pose.cord = (x,y)\n",
        "      p.Pose.theta += np.random.normal(0.0, self.Direction_std)\n",
        "      new_particles.append(p)\n",
        "    self.particles = new_particles\n",
        " \n",
        "  def update(self, lidarScan):\n",
        "    self.updateWeights(lidarScan)\n",
        "    self.updatePositions()\n",
        " \n",
        "  def draw(self):\n",
        "    print('particles',len(self.particles))\n",
        "    temp_map = copy.deepcopy(self.map)\n",
        "    \n",
        "    for p in self.particles:\n",
        "      #print(p.Pose.cord)\n",
        "      temp_map.addBlock(p.Pose.cord, 0.8)\n",
        "    #print(self.robot.Pose.cord)\n",
        "    temp_map.addBlock(self.robot.Pose.cord, 0.5)\n",
        "    temp_map.draw()\n",
        " \n",
        "  def APL(self):\n",
        "    ps = [p.Pose.cord for p in self.particles]\n",
        "    x, y = zip(*ps)\n",
        "    return self.bestEst"
      ],
      "execution_count": 15,
      "outputs": []
    },
    {
      "cell_type": "code",
      "metadata": {
        "id": "fWitGEjCgOI-",
        "colab_type": "code",
        "colab": {
          "base_uri": "https://localhost:8080/",
          "height": 1000
        },
        "outputId": "98fef720-5f6f-4317-d0ec-c86b1ef1b96a"
      },
      "source": [
        "r = Robot(Pose(30,30,0),0.1,0.1)\n",
        "_p = Particles(100,   #number of particles\n",
        "               map,   #grid map\n",
        "               r)     #actual robot\n",
        " \n",
        "T = 10\n",
        "path = [(20+x,20) for x in range(10)]\n",
        " \n",
        " \n",
        "for i in range(T):\n",
        "  print(\"Time step:\",i)\n",
        "  _p.update(r.sense())\n",
        "  #r.moveTo(Pose(path[i][0],path[i][1],math.pi))\n",
        "  location_estimation = _p.APL()\n",
        "  print(\"actual location\", r.Pose)\n",
        "  print(\"Best estimation\",location_estimation)\n",
        "  _p.draw()"
      ],
      "execution_count": 16,
      "outputs": [
        {
          "output_type": "stream",
          "text": [
            "Time step: 0\n",
            "[0.01, 0.01, 0.01, 0.01, 0.01, 0.01, 0.01, 0.01, 0.01, 0.01, 0.01, 0.01, 0.01, 0.01, 0.01, 0.01, 0.01, 0.01, 0.01, 0.01, 0.01, 0.01, 0.01, 0.01, 0.01, 0.01, 0.01, 0.01, 0.01, 0.01, 0.01, 0.01, 0.01, 0.01, 0.01, 0.01, 0.01, 0.01, 0.01, 0.01, 0.01, 0.01, 0.01, 0.01, 0.01, 0.01, 0.01, 0.01, 0.01, 0.01, 0.01, 0.01, 0.01, 0.01, 0.01, 0.01, 0.01, 0.01, 0.01, 0.01, 0.01, 0.01, 0.01, 0.01, 0.01, 0.01, 0.01, 0.01, 0.01, 0.01, 0.01, 0.01, 0.01, 0.01, 0.01, 0.01, 0.01, 0.01, 0.01, 0.01, 0.01, 0.01, 0.01, 0.01, 0.01, 0.01, 0.01, 0.01, 0.01, 0.01, 0.01, 0.01, 0.01, 0.01, 0.01, 0.01, 0.01, 0.01, 0.01, 0.01]\n",
            "actual location x=30, y=30, theta=0\n",
            "Best estimation x=49.79982035731411, y=38.54279107691115, theta=0.4220665709092343\n",
            "particles 100\n"
          ],
          "name": "stdout"
        },
        {
          "output_type": "display_data",
          "data": {
            "image/png": "[encoded data removed]",
            "text/plain": [
              "<Figure size 432x288 with 1 Axes>"
            ]
          },
          "metadata": {
            "tags": [],
            "needs_background": "light"
          }
        },
        {
          "output_type": "stream",
          "text": [
            "Time step: 1\n",
            "[0.01, 0.01, 0.01, 0.01, 0.01, 0.01, 0.01, 0.01, 0.01, 0.01, 0.01, 0.01, 0.01, 0.01, 0.01, 0.01, 0.01, 0.01, 0.01, 0.01, 0.01, 0.01, 0.01, 0.01, 0.01, 0.01, 0.01, 0.01, 0.01, 0.01, 0.01, 0.01, 0.01, 0.01, 0.01, 0.01, 0.01, 0.01, 0.01, 0.01, 0.01, 0.01, 0.01, 0.01, 0.01, 0.01, 0.01, 0.01, 0.01, 0.01, 0.01, 0.01, 0.01, 0.01, 0.01, 0.01, 0.01, 0.01, 0.01, 0.01, 0.01, 0.01, 0.01, 0.01, 0.01, 0.01, 0.01, 0.01, 0.01, 0.01, 0.01, 0.01, 0.01, 0.01, 0.01, 0.01, 0.01, 0.01, 0.01, 0.01, 0.01, 0.01, 0.01, 0.01, 0.01, 0.01, 0.01, 0.01, 0.01, 0.01, 0.01, 0.01, 0.01, 0.01, 0.01, 0.01, 0.01, 0.01, 0.01, 0.01]\n",
            "actual location x=30, y=30, theta=0\n",
            "Best estimation x=39.17512876817912, y=0.07762834699966414, theta=6.938914194515822\n",
            "particles 100\n"
          ],
          "name": "stdout"
        },
        {
          "output_type": "display_data",
          "data": {
            "image/png": "[encoded data removed]",
            "text/plain": [
              "<Figure size 432x288 with 1 Axes>"
            ]
          },
          "metadata": {
            "tags": [],
            "needs_background": "light"
          }
        },
        {
          "output_type": "stream",
          "text": [
            "Time step: 2\n",
            "[0.01, 0.01, 0.01, 0.01, 0.01, 0.01, 0.01, 0.01, 0.01, 0.01, 0.01, 0.01, 0.01, 0.01, 0.01, 0.01, 0.01, 0.01, 0.01, 0.01, 0.01, 0.01, 0.01, 0.01, 0.01, 0.01, 0.01, 0.01, 0.01, 0.01, 0.01, 0.01, 0.01, 0.01, 0.01, 0.01, 0.01, 0.01, 0.01, 0.01, 0.01, 0.01, 0.01, 0.01, 0.01, 0.01, 0.01, 0.01, 0.01, 0.01, 0.01, 0.01, 0.01, 0.01, 0.01, 0.01, 0.01, 0.01, 0.01, 0.01, 0.01, 0.01, 0.01, 0.01, 0.01, 0.01, 0.01, 0.01, 0.01, 0.01, 0.01, 0.01, 0.01, 0.01, 0.01, 0.01, 0.01, 0.01, 0.01, 0.01, 0.01, 0.01, 0.01, 0.01, 0.01, 0.01, 0.01, 0.01, 0.01, 0.01, 0.01, 0.01, 0.01, 0.01, 0.01, 0.01, 0.01, 0.01, 0.01, 0.01]\n",
            "actual location x=30, y=30, theta=0\n",
            "Best estimation x=29.41831184763613, y=4.432044306436889, theta=-0.37892963763826776\n",
            "particles 100\n"
          ],
          "name": "stdout"
        },
        {
          "output_type": "display_data",
          "data": {
            "image/png": "[encoded data removed]",
            "text/plain": [
              "<Figure size 432x288 with 1 Axes>"
            ]
          },
          "metadata": {
            "tags": [],
            "needs_background": "light"
          }
        },
        {
          "output_type": "stream",
          "text": [
            "Time step: 3\n",
            "[0.01, 0.01, 0.01, 0.01, 0.01, 0.01, 0.01, 0.01, 0.01, 0.01, 0.01, 0.01, 0.01, 0.01, 0.01, 0.01, 0.01, 0.01, 0.01, 0.01, 0.01, 0.01, 0.01, 0.01, 0.01, 0.01, 0.01, 0.01, 0.01, 0.01, 0.01, 0.01, 0.01, 0.01, 0.01, 0.01, 0.01, 0.01, 0.01, 0.01, 0.01, 0.01, 0.01, 0.01, 0.01, 0.01, 0.01, 0.01, 0.01, 0.01, 0.01, 0.01, 0.01, 0.01, 0.01, 0.01, 0.01, 0.01, 0.01, 0.01, 0.01, 0.01, 0.01, 0.01, 0.01, 0.01, 0.01, 0.01, 0.01, 0.01, 0.01, 0.01, 0.01, 0.01, 0.01, 0.01, 0.01, 0.01, 0.01, 0.01, 0.01, 0.01, 0.01, 0.01, 0.01, 0.01, 0.01, 0.01, 0.01, 0.01, 0.01, 0.01, 0.01, 0.01, 0.01, 0.01, 0.01, 0.01, 0.01, 0.01]\n",
            "actual location x=30, y=30, theta=0\n",
            "Best estimation x=44.9598843558542, y=17.130128368973725, theta=6.950232914032712\n",
            "particles 100\n"
          ],
          "name": "stdout"
        },
        {
          "output_type": "display_data",
          "data": {
            "image/png": "[encoded data removed]",
            "text/plain": [
              "<Figure size 432x288 with 1 Axes>"
            ]
          },
          "metadata": {
            "tags": [],
            "needs_background": "light"
          }
        },
        {
          "output_type": "stream",
          "text": [
            "Time step: 4\n",
            "[0.01, 0.01, 0.01, 0.01, 0.01, 0.01, 0.01, 0.01, 0.01, 0.01, 0.01, 0.01, 0.01, 0.01, 0.01, 0.01, 0.01, 0.01, 0.01, 0.01, 0.01, 0.01, 0.01, 0.01, 0.01, 0.01, 0.01, 0.01, 0.01, 0.01, 0.01, 0.01, 0.01, 0.01, 0.01, 0.01, 0.01, 0.01, 0.01, 0.01, 0.01, 0.01, 0.01, 0.01, 0.01, 0.01, 0.01, 0.01, 0.01, 0.01, 0.01, 0.01, 0.01, 0.01, 0.01, 0.01, 0.01, 0.01, 0.01, 0.01, 0.01, 0.01, 0.01, 0.01, 0.01, 0.01, 0.01, 0.01, 0.01, 0.01, 0.01, 0.01, 0.01, 0.01, 0.01, 0.01, 0.01, 0.01, 0.01, 0.01, 0.01, 0.01, 0.01, 0.01, 0.01, 0.01, 0.01, 0.01, 0.01, 0.01, 0.01, 0.01, 0.01, 0.01, 0.01, 0.01, 0.01, 0.01, 0.01, 0.01]\n",
            "actual location x=30, y=30, theta=0\n",
            "Best estimation x=48.43484667783884, y=0.14516210845414435, theta=12.407475401416875\n",
            "particles 100\n"
          ],
          "name": "stdout"
        },
        {
          "output_type": "display_data",
          "data": {
            "image/png": "[encoded data removed]",
            "text/plain": [
              "<Figure size 432x288 with 1 Axes>"
            ]
          },
          "metadata": {
            "tags": [],
            "needs_background": "light"
          }
        },
        {
          "output_type": "stream",
          "text": [
            "Time step: 5\n",
            "[0.01, 0.01, 0.01, 0.01, 0.01, 0.01, 0.01, 0.01, 0.01, 0.01, 0.01, 0.01, 0.01, 0.01, 0.01, 0.01, 0.01, 0.01, 0.01, 0.01, 0.01, 0.01, 0.01, 0.01, 0.01, 0.01, 0.01, 0.01, 0.01, 0.01, 0.01, 0.01, 0.01, 0.01, 0.01, 0.01, 0.01, 0.01, 0.01, 0.01, 0.01, 0.01, 0.01, 0.01, 0.01, 0.01, 0.01, 0.01, 0.01, 0.01, 0.01, 0.01, 0.01, 0.01, 0.01, 0.01, 0.01, 0.01, 0.01, 0.01, 0.01, 0.01, 0.01, 0.01, 0.01, 0.01, 0.01, 0.01, 0.01, 0.01, 0.01, 0.01, 0.01, 0.01, 0.01, 0.01, 0.01, 0.01, 0.01, 0.01, 0.01, 0.01, 0.01, 0.01, 0.01, 0.01, 0.01, 0.01, 0.01, 0.01, 0.01, 0.01, 0.01, 0.01, 0.01, 0.01, 0.01, 0.01, 0.01, 0.01]\n",
            "actual location x=30, y=30, theta=0\n",
            "Best estimation x=20.279500012173173, y=11.354173416181363, theta=-2.838094059898503\n",
            "particles 100\n"
          ],
          "name": "stdout"
        },
        {
          "output_type": "display_data",
          "data": {
            "image/png": "[encoded data removed]",
            "text/plain": [
              "<Figure size 432x288 with 1 Axes>"
            ]
          },
          "metadata": {
            "tags": [],
            "needs_background": "light"
          }
        },
        {
          "output_type": "stream",
          "text": [
            "Time step: 6\n",
            "[0.01, 0.01, 0.01, 0.01, 0.01, 0.01, 0.01, 0.01, 0.01, 0.01, 0.01, 0.01, 0.01, 0.01, 0.01, 0.01, 0.01, 0.01, 0.01, 0.01, 0.01, 0.01, 0.01, 0.01, 0.01, 0.01, 0.01, 0.01, 0.01, 0.01, 0.01, 0.01, 0.01, 0.01, 0.01, 0.01, 0.01, 0.01, 0.01, 0.01, 0.01, 0.01, 0.01, 0.01, 0.01, 0.01, 0.01, 0.01, 0.01, 0.01, 0.01, 0.01, 0.01, 0.01, 0.01, 0.01, 0.01, 0.01, 0.01, 0.01, 0.01, 0.01, 0.01, 0.01, 0.01, 0.01, 0.01, 0.01, 0.01, 0.01, 0.01, 0.01, 0.01, 0.01, 0.01, 0.01, 0.01, 0.01, 0.01, 0.01, 0.01, 0.01, 0.01, 0.01, 0.01, 0.01, 0.01, 0.01, 0.01, 0.01, 0.01, 0.01, 0.01, 0.01, 0.01, 0.01, 0.01, 0.01, 0.01, 0.01]\n",
            "actual location x=30, y=30, theta=0\n",
            "Best estimation x=20.279500012173173, y=11.354173416181363, theta=-2.354208397033868\n",
            "particles 100\n"
          ],
          "name": "stdout"
        },
        {
          "output_type": "display_data",
          "data": {
            "image/png": "[encoded data removed]",
            "text/plain": [
              "<Figure size 432x288 with 1 Axes>"
            ]
          },
          "metadata": {
            "tags": [],
            "needs_background": "light"
          }
        },
        {
          "output_type": "stream",
          "text": [
            "Time step: 7\n",
            "[0.01, 0.01, 0.01, 0.01, 0.01, 0.01, 0.01, 0.01, 0.01, 0.01, 0.01, 0.01, 0.01, 0.01, 0.01, 0.01, 0.01, 0.01, 0.01, 0.01, 0.01, 0.01, 0.01, 0.01, 0.01, 0.01, 0.01, 0.01, 0.01, 0.01, 0.01, 0.01, 0.01, 0.01, 0.01, 0.01, 0.01, 0.01, 0.01, 0.01, 0.01, 0.01, 0.01, 0.01, 0.01, 0.01, 0.01, 0.01, 0.01, 0.01, 0.01, 0.01, 0.01, 0.01, 0.01, 0.01, 0.01, 0.01, 0.01, 0.01, 0.01, 0.01, 0.01, 0.01, 0.01, 0.01, 0.01, 0.01, 0.01, 0.01, 0.01, 0.01, 0.01, 0.01, 0.01, 0.01, 0.01, 0.01, 0.01, 0.01, 0.01, 0.01, 0.01, 0.01, 0.01, 0.01, 0.01, 0.01, 0.01, 0.01, 0.01, 0.01, 0.01, 0.01, 0.01, 0.01, 0.01, 0.01, 0.01, 0.01]\n",
            "actual location x=30, y=30, theta=0\n",
            "Best estimation x=32.16336542455735, y=0.36385097205530736, theta=10.905149450035088\n",
            "particles 100\n"
          ],
          "name": "stdout"
        },
        {
          "output_type": "display_data",
          "data": {
            "image/png": "[encoded data removed]",
            "text/plain": [
              "<Figure size 432x288 with 1 Axes>"
            ]
          },
          "metadata": {
            "tags": [],
            "needs_background": "light"
          }
        },
        {
          "output_type": "stream",
          "text": [
            "Time step: 8\n",
            "[0.01, 0.01, 0.01, 0.01, 0.01, 0.01, 0.01, 0.01, 0.01, 0.01, 0.01, 0.01, 0.01, 0.01, 0.01, 0.01, 0.01, 0.01, 0.01, 0.01, 0.01, 0.01, 0.01, 0.01, 0.01, 0.01, 0.01, 0.01, 0.01, 0.01, 0.01, 0.01, 0.01, 0.01, 0.01, 0.01, 0.01, 0.01, 0.01, 0.01, 0.01, 0.01, 0.01, 0.01, 0.01, 0.01, 0.01, 0.01, 0.01, 0.01, 0.01, 0.01, 0.01, 0.01, 0.01, 0.01, 0.01, 0.01, 0.01, 0.01, 0.01, 0.01, 0.01, 0.01, 0.01, 0.01, 0.01, 0.01, 0.01, 0.01, 0.01, 0.01, 0.01, 0.01, 0.01, 0.01, 0.01, 0.01, 0.01, 0.01, 0.01, 0.01, 0.01, 0.01, 0.01, 0.01, 0.01, 0.01, 0.01, 0.01, 0.01, 0.01, 0.01, 0.01, 0.01, 0.01, 0.01, 0.01, 0.01, 0.01]\n",
            "actual location x=30, y=30, theta=0\n",
            "Best estimation x=20.279500012173173, y=11.354173416181363, theta=-1.9015291797883571\n",
            "particles 100\n"
          ],
          "name": "stdout"
        },
        {
          "output_type": "display_data",
          "data": {
            "image/png": "[encoded data removed]",
            "text/plain": [
              "<Figure size 432x288 with 1 Axes>"
            ]
          },
          "metadata": {
            "tags": [],
            "needs_background": "light"
          }
        },
        {
          "output_type": "stream",
          "text": [
            "Time step: 9\n",
            "[0.01, 0.01, 0.01, 0.01, 0.01, 0.01, 0.01, 0.01, 0.01, 0.01, 0.01, 0.01, 0.01, 0.01, 0.01, 0.01, 0.01, 0.01, 0.01, 0.01, 0.01, 0.01, 0.01, 0.01, 0.01, 0.01, 0.01, 0.01, 0.01, 0.01, 0.01, 0.01, 0.01, 0.01, 0.01, 0.01, 0.01, 0.01, 0.01, 0.01, 0.01, 0.01, 0.01, 0.01, 0.01, 0.01, 0.01, 0.01, 0.01, 0.01, 0.01, 0.01, 0.01, 0.01, 0.01, 0.01, 0.01, 0.01, 0.01, 0.01, 0.01, 0.01, 0.01, 0.01, 0.01, 0.01, 0.01, 0.01, 0.01, 0.01, 0.01, 0.01, 0.01, 0.01, 0.01, 0.01, 0.01, 0.01, 0.01, 0.01, 0.01, 0.01, 0.01, 0.01, 0.01, 0.01, 0.01, 0.01, 0.01, 0.01, 0.01, 0.01, 0.01, 0.01, 0.01, 0.01, 0.01, 0.01, 0.01, 0.01]\n",
            "actual location x=30, y=30, theta=0\n",
            "Best estimation x=20.279500012173173, y=11.354173416181363, theta=-3.445060966684428\n",
            "particles 100\n"
          ],
          "name": "stdout"
        },
        {
          "output_type": "display_data",
          "data": {
            "image/png": "[encoded data removed]",
            "text/plain": [
              "<Figure size 432x288 with 1 Axes>"
            ]
          },
          "metadata": {
            "tags": [],
            "needs_background": "light"
          }
        }
      ]
    },
    {
      "cell_type": "code",
      "metadata": {
        "id": "yBtfY_mNE1_q",
        "colab_type": "code",
        "colab": {
          "base_uri": "https://localhost:8080/",
          "height": 34
        },
        "outputId": "7a2fdff2-1c2d-4ab3-c923-fc4cf9f32452"
      },
      "source": [
        "r.Pose.cord"
      ],
      "execution_count": 13,
      "outputs": [
        {
          "output_type": "execute_result",
          "data": {
            "text/plain": [
              "(30, 30)"
            ]
          },
          "metadata": {
            "tags": []
          },
          "execution_count": 13
        }
      ]
    },
    {
      "cell_type": "code",
      "metadata": {
        "id": "h2dyRdbY43AZ",
        "colab_type": "code",
        "colab": {
          "base_uri": "https://localhost:8080/",
          "height": 301
        },
        "outputId": "2bed15a8-e828-45b1-e7b9-883de191dafa"
      },
      "source": [
        "_p.draw()"
      ],
      "execution_count": 14,
      "outputs": [
        {
          "output_type": "stream",
          "text": [
            "particles 100\n",
            "(30, 30)\n"
          ],
          "name": "stdout"
        },
        {
          "output_type": "display_data",
          "data": {
            "image/png": "[encoded data removed]",
            "text/plain": [
              "<Figure size 432x288 with 1 Axes>"
            ]
          },
          "metadata": {
            "tags": [],
            "needs_background": "light"
          }
        }
      ]
    },
    {
      "cell_type": "code",
      "metadata": {
        "id": "pRZZvHTKAJ0_",
        "colab_type": "code",
        "colab": {}
      },
      "source": [
        ""
      ],
      "execution_count": 14,
      "outputs": []
    }
  ]
}