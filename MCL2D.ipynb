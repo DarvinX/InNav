{
  "nbformat": 4,
  "nbformat_minor": 0,
  "metadata": {
    "colab": {
      "name": "MCL2D.ipynb",
      "provenance": [],
      "collapsed_sections": [],
      "authorship_tag": "ABX9TyPkKRPiJhNxIPHAi4o86370",
      "include_colab_link": true
    },
    "kernelspec": {
      "name": "python3",
      "display_name": "Python 3"
    }
  },
  "cells": [
    {
      "cell_type": "markdown",
      "metadata": {
        "id": "view-in-github",
        "colab_type": "text"
      },
      "source": [
        "<a href=\"https://colab.research.google.com/github/DarvinX/InNav/blob/master/MCL2D.ipynb\" target=\"_parent\"><img src=\"https://colab.research.google.com/assets/colab-badge.svg\" alt=\"Open In Colab\"/></a>"
      ]
    },
    {
      "cell_type": "code",
      "metadata": {
        "id": "nxHwXElDMYur",
        "colab_type": "code",
        "colab": {}
      },
      "source": [
        "#imports\n",
        "import numpy as np\n",
        "from numpy import random\n",
        "import math\n",
        "import copy\n",
        "import matplotlib.pyplot as plt"
      ],
      "execution_count": 1,
      "outputs": []
    },
    {
      "cell_type": "code",
      "metadata": {
        "id": "HPWAOfOkM27N",
        "colab_type": "code",
        "colab": {}
      },
      "source": [
        "class Pose:\n",
        "  def __init__(self, x=0, y=0, theta=0):\n",
        "    self.x = x\n",
        "    self.y = y\n",
        "    self.theta = theta\n",
        "    self.cord = (self.x, self.y)"
      ],
      "execution_count": 2,
      "outputs": []
    },
    {
      "cell_type": "code",
      "metadata": {
        "id": "YtbSo6DvOT31",
        "colab_type": "code",
        "colab": {}
      },
      "source": [
        "class Noise:\n",
        "  def __init__(self,\n",
        "               linearNoise,\n",
        "               angularNoise):\n",
        "    self.linearNoise = linearNoise\n",
        "    self.angularNoise = angularNoise\n",
        "    \n",
        "  def addError(self, view_points):\n",
        "    res = []\n",
        "    for p in view_points:\n",
        "        #angle, distance = p\n",
        "        distance = p\n",
        "        #new_angle = angle + np.random.normal(0.0, self.angularNoise)\n",
        "        new_distance = distance + np.random.normal(0.0, self.linearNoise)\n",
        "        res.append((\n",
        "            #new_angle,\n",
        "             new_distance))\n",
        "    return res"
      ],
      "execution_count": 3,
      "outputs": []
    },
    {
      "cell_type": "code",
      "metadata": {
        "id": "NluAFvvNzKb3",
        "colab_type": "code",
        "colab": {}
      },
      "source": [
        "class Map:\n",
        "  def __init__(self, dim=(20,20)):\n",
        "    self.height = dim[0]\n",
        "    self.width = dim[1]\n",
        "    self.map = np.ones((self.height, self.width))\n",
        "    self.mapPoints = []\n",
        "\n",
        "  def addBlock(self, loc, color=0):\n",
        "    try:\n",
        "      self.map[int(loc[0])][int(loc[1])] = color\n",
        "      self.mapPoints.append(loc)\n",
        "    except:\n",
        "      pass\n",
        "\n",
        "  def draw(self):\n",
        "    plt.figure()\n",
        "    plt.imshow(self.map, cmap='gray')\n",
        "    plt.show()\n",
        "    plt.clf()\n",
        "  \n",
        "  def getMapPints(self):\n",
        "    return list(zip(*np.where(self.map==0)))\n",
        "\n",
        "  def drawLine(self, \n",
        "               startPoint, \n",
        "               endPoint, \n",
        "               width=1, \n",
        "               show=False):\n",
        "    s_y = startPoint[0]\n",
        "    s_x = startPoint[1]\n",
        "    e_y = endPoint[0]\n",
        "    e_x = endPoint[1]\n",
        "\n",
        "    if s_y > self.height or s_y < 0 or \\\n",
        "       s_x > self.width or s_x < 0:\n",
        "      print(\"starting point out of boundary\")\n",
        "\n",
        "    if e_y > self.height or e_y < 0 or \\\n",
        "       e_x > self.width or e_x < 0:\n",
        "      print(\"end point out of boundary\")\n",
        "    \n",
        "    if s_x == e_x:\n",
        "      if s_y <= e_y:\n",
        "        for i in range(e_y-s_y):\n",
        "          try:\n",
        "            self.addBlock((s_x,s_y+i))\n",
        "          except:\n",
        "            pass\n",
        "    \n",
        "    if s_y == e_y:\n",
        "      if s_x <= e_x:\n",
        "        for i in range(e_x-s_x):\n",
        "          try:\n",
        "            self.addBlock((s_x+i,s_y))\n",
        "          except:\n",
        "            pass\n"
      ],
      "execution_count": 4,
      "outputs": []
    },
    {
      "cell_type": "code",
      "metadata": {
        "id": "FyryNiDy2Hei",
        "colab_type": "code",
        "colab": {}
      },
      "source": [
        "def defaultMap(): # build a default test map\n",
        "  N_map = 50\n",
        "  map = Map((N_map,N_map))\n",
        "  y = 0\n",
        "  map.drawLine((0,y),(9,y))\n",
        "  map.drawLine((15,y),(30,y))\n",
        "  map.drawLine((40,y),(50,y))\n",
        "\n",
        "  y = 10\n",
        "  map.drawLine((0,y),(15,y))\n",
        "  map.drawLine((35,y),(40,y))\n",
        "  map.drawLine((45,y),(50,y))\n",
        "\n",
        "  y= 25\n",
        "  map.drawLine((0,y),(9,y))\n",
        "  map.drawLine((30,y),(35,y))\n",
        "\n",
        "  y= 40\n",
        "  map.drawLine((0,y),(9,y))\n",
        "  map.drawLine((15,y),(30,y))\n",
        "  map.drawLine((40,y),(50,y))\n",
        "\n",
        "  ## x lines\n",
        "  x= 40\n",
        "  map.drawLine((x, 0),(x,12))\n",
        "  map.drawLine((x,30),(x,35))\n",
        "  map.drawLine((x,45),(x,50))\n",
        "\n",
        "  x= 30\n",
        "  map.drawLine((x, 0),(x,12))\n",
        "  map.drawLine((x,15),(x,25))\n",
        "  map.drawLine((x,45),(x,50))\n",
        "\n",
        "  x= 10\n",
        "  map.drawLine((x, 0),(x,12))\n",
        "  map.drawLine((x,25),(x,35))\n",
        "\n",
        "  x= 0\n",
        "  map.drawLine((x, 5),(x,12))\n",
        "  map.drawLine((x,30),(x,35))\n",
        "  return map"
      ],
      "execution_count": 5,
      "outputs": []
    },
    {
      "cell_type": "code",
      "metadata": {
        "id": "1s25wUCKEmms",
        "colab_type": "code",
        "colab": {
          "base_uri": "https://localhost:8080/",
          "height": 284
        },
        "outputId": "04db4a39-8ae8-4a57-e117-fb727adb5948"
      },
      "source": [
        "map=defaultMap()\n",
        "map.draw()"
      ],
      "execution_count": 6,
      "outputs": [
        {
          "output_type": "display_data",
          "data": {
            "image/png": "[encoded data removed]",
            "text/plain": [
              "<Figure size 432x288 with 1 Axes>"
            ]
          },
          "metadata": {
            "tags": [],
            "needs_background": "light"
          }
        },
        {
          "output_type": "display_data",
          "data": {
            "text/plain": [
              "<Figure size 432x288 with 0 Axes>"
            ]
          },
          "metadata": {
            "tags": []
          }
        }
      ]
    },
    {
      "cell_type": "code",
      "metadata": {
        "id": "7aNX8Ml8Xk2i",
        "colab_type": "code",
        "colab": {}
      },
      "source": [
        ""
      ],
      "execution_count": 6,
      "outputs": []
    },
    {
      "cell_type": "code",
      "metadata": {
        "id": "dtPPDk2_Qhcw",
        "colab_type": "code",
        "colab": {}
      },
      "source": [
        "class Utility:\n",
        "  @staticmethod\n",
        "  def distance(a, b):\n",
        "    return np.linalg.norm(np.array([a.x, a.y]) - np.array([b.x,b.y]))\n",
        "  \n",
        "  @staticmethod\n",
        "  def Gaussian(mu, sigma, x):\n",
        "    #sigma is the gaussian noise measurement(standard deviation)\n",
        "    #sigma can't be zero, division by zero error\n",
        "    rtn = np.exp(-((mu-x)**2)/(sigma**2)/2.0)/np.sqrt(2.0*np.pi*(sigma**2))\n",
        "    #print(rtn)\n",
        "    return rtn\n",
        "\n"
      ],
      "execution_count": 7,
      "outputs": []
    },
    {
      "cell_type": "code",
      "metadata": {
        "id": "tPwEwaEByzxP",
        "colab_type": "code",
        "colab": {}
      },
      "source": [
        ""
      ],
      "execution_count": 7,
      "outputs": []
    },
    {
      "cell_type": "code",
      "metadata": {
        "id": "8yl2tgdsOtuw",
        "colab_type": "code",
        "colab": {}
      },
      "source": [
        "class Robot:\n",
        "  def __init__(self, pose,\n",
        "               linearNoise=0.5,\n",
        "               angularNoise=0.1,\n",
        "               map=map):\n",
        "\n",
        "    self.Pose = pose\n",
        "    self.Noise = Noise(linearNoise,\n",
        "                       angularNoise)\n",
        "    self.setSensorSpec()\n",
        "    self.mapPoints = []\n",
        "    self.setMap(map)\n",
        "    \n",
        "  def getPose(self):\n",
        "    return self.Pose\n",
        "\n",
        "  def setMap(self, map):\n",
        "    self.mapPoints = map.mapPoints\n",
        "\n",
        "  def setNoise(self, \n",
        "               linearNoise, \n",
        "               angularNoise,\n",
        "               ):\n",
        "    self.Noise = Noise(linearNoise,\n",
        "                       angularNoise,\n",
        "                       )\n",
        "  def prob(self, lidarScan):\n",
        "    scan = self.sense()\n",
        "\n",
        "    #for sc in scane\n",
        "\n",
        "  def setSensorSpec(self,\n",
        "                    angleSweep=math.pi/4,\n",
        "                    sweepNumber=8):\n",
        "    self.angleSweep = angleSweep\n",
        "    self.sweepNumber = sweepNumber\n",
        "\n",
        "  def angleAndDistance(self, robotLocation, pointLocation):\n",
        "    rx, ry = robotLocation\n",
        "    px, py = pointLocation\n",
        "    dx = px - rx\n",
        "    dy = py - ry\n",
        "    distance = math.sqrt(dx**2 + dy**2)\n",
        "    angle = math.atan2(dy, dx)\n",
        "    return (angle, distance)\n",
        "\n",
        "  def angleRange(self, center):\n",
        "    delta = self.angleSweep\n",
        "    n = self.sweepNumber\n",
        "    return [(center - delta) + delta * i / n for i in range(2 * n + 1)]\n",
        "\n",
        "  def closestPointInSwath(self, min_angle, max_angle, robotLocation):\n",
        "    pts = []\n",
        "    for p in self.mapPoints:\n",
        "        angle, distance = self.angleAndDistance(robotLocation, p)\n",
        "        if angle > min_angle and angle < max_angle:\n",
        "            pts.append(distance)\n",
        "    pts = sorted(pts)\n",
        "    if len(pts) > 0:\n",
        "        return pts[0]\n",
        "    return 0\n",
        "\n",
        "  def sense(self):\n",
        "    pts = []\n",
        "    angles = self.angleRange(self.Pose.theta)\n",
        "    delta = self.angleSweep / self.sweepNumber\n",
        "    for a in angles:\n",
        "        min_a = a - delta / 2.0\n",
        "        max_a = a + delta / 2.0\n",
        "        distance = self.closestPointInSwath(min_a, max_a, self.Pose.cord)\n",
        "        if distance is not None:\n",
        "            pts.append((\n",
        "                #a,\n",
        "                distance))\n",
        "    return self.Noise.addError(pts)\n",
        "\n",
        "  def moveTo(self, pose):\n",
        "    self.Pose = pose\n"
      ],
      "execution_count": 8,
      "outputs": []
    },
    {
      "cell_type": "code",
      "metadata": {
        "id": "FSFOKjT1awPX",
        "colab_type": "code",
        "colab": {
          "base_uri": "https://localhost:8080/",
          "height": 337
        },
        "outputId": "40c088c3-e05a-4d4f-ddb5-08ec2d8d92b6"
      },
      "source": [
        "r = Robot(Pose(2,2,0.1))\n",
        "d = r.sense()\n",
        "print(d)\n",
        "a = [i*math.pi/4 for i in range(len(d))]\n",
        "print(a)\n",
        "plt.scatter(a, d)"
      ],
      "execution_count": 9,
      "outputs": [
        {
          "output_type": "stream",
          "text": [
            "[-0.41199393422244307, 4.2025597518204485, 4.635993910617039, 4.977962767219557, 5.493073922106295, 9.019971846480024, 8.46192838276934, 8.334756388356972, 8.218854007325463, 8.089679912544431, 24.16703789817455, 8.03161295156346, 8.947005734507027, 9.808120262073569, 10.13041733876983, 10.745056740760774, 9.728615085260532]\n",
            "[0.0, 0.7853981633974483, 1.5707963267948966, 2.356194490192345, 3.141592653589793, 3.9269908169872414, 4.71238898038469, 5.497787143782138, 6.283185307179586, 7.0685834705770345, 7.853981633974483, 8.63937979737193, 9.42477796076938, 10.210176124166829, 10.995574287564276, 11.780972450961723, 12.566370614359172]\n"
          ],
          "name": "stdout"
        },
        {
          "output_type": "execute_result",
          "data": {
            "text/plain": [
              "<matplotlib.collections.PathCollection at 0x7ff1a8056780>"
            ]
          },
          "metadata": {
            "tags": []
          },
          "execution_count": 9
        },
        {
          "output_type": "display_data",
          "data": {
            "image/png": "[encoded data removed]",
            "text/plain": [
              "<Figure size 432x288 with 1 Axes>"
            ]
          },
          "metadata": {
            "tags": [],
            "needs_background": "light"
          }
        }
      ]
    },
    {
      "cell_type": "code",
      "metadata": {
        "id": "6rkPyou-m526",
        "colab_type": "code",
        "colab": {}
      },
      "source": [
        "class Particle:\n",
        "  def __init__(self, pose):\n",
        "    self.Pose = Pose\n"
      ],
      "execution_count": 10,
      "outputs": []
    },
    {
      "cell_type": "code",
      "metadata": {
        "id": "h4V9zj_hfnED",
        "colab_type": "code",
        "colab": {}
      },
      "source": [
        "class Particles:\n",
        "  def __init__(self,\n",
        "               num_particles,\n",
        "               map,\n",
        "               robot):\n",
        "    self.num_particles = num_particles\n",
        "    self.maxHeight = map.height\n",
        "    self.maxWidth = map.width\n",
        "    self.map = map\n",
        "    self.robot = robot\n",
        "    self.linearNoise = self.robot.Noise.linearNoise\n",
        "    self.init()\n",
        "    self.Location_std = 3.0\n",
        "    self.Direction_std = 1.0\n",
        "\n",
        "  def init(self):\n",
        "    self.particles = []\n",
        "    for i in range(self.num_particles):\n",
        "      x = np.random.uniform(0, self.maxWidth)\n",
        "      y = np.random.uniform(0, self.maxHeight)\n",
        "      d = np.random.uniform(0.0, 2 * math.pi)\n",
        "      particle = Robot(Pose(x,y,d), )\n",
        "      self.particles.append(particle)\n",
        "  \n",
        "  def generateWeights(self, lidarScan):\n",
        "    weights = []\n",
        "    totalProb = 0\n",
        "    for ptl in self.particles:\n",
        "      d_p = ptl.sense()\n",
        "      #print(d_p)\n",
        "      prob = 1.0\n",
        "      for i in range(len(lidarScan)):\n",
        "        prob *= Utility.Gaussian(d_p[i], self.linearNoise, lidarScan[i])\n",
        "      #print(prob)\n",
        "      weights.append(prob)\n",
        "      totalProb += prob\n",
        "    \n",
        "    if totalProb > 1:\n",
        "      return [weight/totalProb for weight in weights]\n",
        "    else:\n",
        "      return [1/float(len(weights)) for i in weights]\n",
        "\n",
        "  def Resample(self, weights):\n",
        "    newParticles = []\n",
        "    print(weights)\n",
        "    indices = [i for i,_ in enumerate(weights)]\n",
        "    for i in indices:\n",
        "      selected_index = np.random.choice(indices, p=weights)\n",
        "      particle = self.particles[selected_index]\n",
        "      newParticles.append(particle)\n",
        "    self.particles = newParticles\n",
        "\n",
        "  def updateWeights(self, lidarScan):\n",
        "    weights = self.generateWeights(lidarScan)\n",
        "    #print(weights)\n",
        "    self.Resample(weights)\n",
        "\n",
        "  def updatePositions(self):\n",
        "    new_particles = []\n",
        "    for particle in self.particles:\n",
        "      p = copy.copy(particle)\n",
        "      x, y = p.Pose.cord\n",
        "      x += np.random.normal(0.0, self.Location_std)\n",
        "      y += np.random.normal(0.0, self.Location_std)\n",
        "      p.Pose.cord = (x,y)\n",
        "      p.Pose.theta += np.random.normal(0.0, self.Direction_std)\n",
        "      new_particles.append(p)\n",
        "    self.particles = new_particles\n",
        "\n",
        "  def update(self, lidarScan):\n",
        "    self.updateWeights(lidarScan)\n",
        "    self.updatePositions()\n",
        "\n",
        "  def draw(self):\n",
        "    temp_map = self.map\n",
        "    \n",
        "    for p in self.particles:\n",
        "      #print(p.Pose.cord)\n",
        "      temp_map.addBlock(p.Pose.cord, 0.8)\n",
        "    print(self.robot.Pose.cord)\n",
        "    temp_map.addBlock(self.robot.Pose.cord, 0.5)\n",
        "    temp_map.draw()\n",
        "\n",
        "  def APL(self):\n",
        "    ps = [p.Pose.cord for p in self.particles]\n",
        "    x, y = zip(*ps)\n",
        "    return ((np.average(x), np.average(y)))"
      ],
      "execution_count": 16,
      "outputs": []
    },
    {
      "cell_type": "code",
      "metadata": {
        "id": "fWitGEjCgOI-",
        "colab_type": "code",
        "colab": {
          "base_uri": "https://localhost:8080/",
          "height": 1000
        },
        "outputId": "53034d4b-f2fe-4abf-dfe5-5794c06f22a8"
      },
      "source": [
        "r = Robot(Pose(1,2,0),0.1,0.1)\n",
        "_p = Particles(100,   #number of particles\n",
        "               map,   #grid map\n",
        "               r)     #actual robot\n",
        "\n",
        "T = 10\n",
        "path = [(20+x,20) for x in range(10)]\n",
        "\n",
        "\n",
        "for i in range(T):\n",
        "  _p.update(r.sense())\n",
        "  r.moveTo(Pose(path[i][0],path[i][1],math.pi))\n",
        "  location_estimation = _p.APL()\n",
        "  print(\"actual location\", r.Pose.cord)\n",
        "  print(\"Best estimation\",location_estimation)\n",
        "  _p.draw()"
      ],
      "execution_count": 17,
      "outputs": [
        {
          "output_type": "stream",
          "text": [
            "[0.01, 0.01, 0.01, 0.01, 0.01, 0.01, 0.01, 0.01, 0.01, 0.01, 0.01, 0.01, 0.01, 0.01, 0.01, 0.01, 0.01, 0.01, 0.01, 0.01, 0.01, 0.01, 0.01, 0.01, 0.01, 0.01, 0.01, 0.01, 0.01, 0.01, 0.01, 0.01, 0.01, 0.01, 0.01, 0.01, 0.01, 0.01, 0.01, 0.01, 0.01, 0.01, 0.01, 0.01, 0.01, 0.01, 0.01, 0.01, 0.01, 0.01, 0.01, 0.01, 0.01, 0.01, 0.01, 0.01, 0.01, 0.01, 0.01, 0.01, 0.01, 0.01, 0.01, 0.01, 0.01, 0.01, 0.01, 0.01, 0.01, 0.01, 0.01, 0.01, 0.01, 0.01, 0.01, 0.01, 0.01, 0.01, 0.01, 0.01, 0.01, 0.01, 0.01, 0.01, 0.01, 0.01, 0.01, 0.01, 0.01, 0.01, 0.01, 0.01, 0.01, 0.01, 0.01, 0.01, 0.01, 0.01, 0.01, 0.01]\n",
            "actual location (20, 20)\n",
            "Best estimation (27.56425640304207, 21.374324942170464)\n",
            "(20, 20)\n"
          ],
          "name": "stdout"
        },
        {
          "output_type": "display_data",
          "data": {
            "image/png": "[encoded data removed]",
            "text/plain": [
              "<Figure size 432x288 with 1 Axes>"
            ]
          },
          "metadata": {
            "tags": [],
            "needs_background": "light"
          }
        },
        {
          "output_type": "stream",
          "text": [
            "[0.01, 0.01, 0.01, 0.01, 0.01, 0.01, 0.01, 0.01, 0.01, 0.01, 0.01, 0.01, 0.01, 0.01, 0.01, 0.01, 0.01, 0.01, 0.01, 0.01, 0.01, 0.01, 0.01, 0.01, 0.01, 0.01, 0.01, 0.01, 0.01, 0.01, 0.01, 0.01, 0.01, 0.01, 0.01, 0.01, 0.01, 0.01, 0.01, 0.01, 0.01, 0.01, 0.01, 0.01, 0.01, 0.01, 0.01, 0.01, 0.01, 0.01, 0.01, 0.01, 0.01, 0.01, 0.01, 0.01, 0.01, 0.01, 0.01, 0.01, 0.01, 0.01, 0.01, 0.01, 0.01, 0.01, 0.01, 0.01, 0.01, 0.01, 0.01, 0.01, 0.01, 0.01, 0.01, 0.01, 0.01, 0.01, 0.01, 0.01, 0.01, 0.01, 0.01, 0.01, 0.01, 0.01, 0.01, 0.01, 0.01, 0.01, 0.01, 0.01, 0.01, 0.01, 0.01, 0.01, 0.01, 0.01, 0.01, 0.01]\n",
            "actual location (21, 20)\n",
            "Best estimation (27.506063843544077, 21.22597041155711)\n",
            "(21, 20)\n"
          ],
          "name": "stdout"
        },
        {
          "output_type": "display_data",
          "data": {
            "text/plain": [
              "<Figure size 432x288 with 0 Axes>"
            ]
          },
          "metadata": {
            "tags": []
          }
        },
        {
          "output_type": "display_data",
          "data": {
            "image/png": "[encoded data removed]",
            "text/plain": [
              "<Figure size 432x288 with 1 Axes>"
            ]
          },
          "metadata": {
            "tags": [],
            "needs_background": "light"
          }
        },
        {
          "output_type": "stream",
          "text": [
            "[0.01, 0.01, 0.01, 0.01, 0.01, 0.01, 0.01, 0.01, 0.01, 0.01, 0.01, 0.01, 0.01, 0.01, 0.01, 0.01, 0.01, 0.01, 0.01, 0.01, 0.01, 0.01, 0.01, 0.01, 0.01, 0.01, 0.01, 0.01, 0.01, 0.01, 0.01, 0.01, 0.01, 0.01, 0.01, 0.01, 0.01, 0.01, 0.01, 0.01, 0.01, 0.01, 0.01, 0.01, 0.01, 0.01, 0.01, 0.01, 0.01, 0.01, 0.01, 0.01, 0.01, 0.01, 0.01, 0.01, 0.01, 0.01, 0.01, 0.01, 0.01, 0.01, 0.01, 0.01, 0.01, 0.01, 0.01, 0.01, 0.01, 0.01, 0.01, 0.01, 0.01, 0.01, 0.01, 0.01, 0.01, 0.01, 0.01, 0.01, 0.01, 0.01, 0.01, 0.01, 0.01, 0.01, 0.01, 0.01, 0.01, 0.01, 0.01, 0.01, 0.01, 0.01, 0.01, 0.01, 0.01, 0.01, 0.01, 0.01]\n",
            "actual location (22, 20)\n",
            "Best estimation (26.643558600807868, 22.583533609599357)\n",
            "(22, 20)\n"
          ],
          "name": "stdout"
        },
        {
          "output_type": "display_data",
          "data": {
            "text/plain": [
              "<Figure size 432x288 with 0 Axes>"
            ]
          },
          "metadata": {
            "tags": []
          }
        },
        {
          "output_type": "display_data",
          "data": {
            "image/png": "[encoded data removed]",
            "text/plain": [
              "<Figure size 432x288 with 1 Axes>"
            ]
          },
          "metadata": {
            "tags": [],
            "needs_background": "light"
          }
        },
        {
          "output_type": "stream",
          "text": [
            "[0.01, 0.01, 0.01, 0.01, 0.01, 0.01, 0.01, 0.01, 0.01, 0.01, 0.01, 0.01, 0.01, 0.01, 0.01, 0.01, 0.01, 0.01, 0.01, 0.01, 0.01, 0.01, 0.01, 0.01, 0.01, 0.01, 0.01, 0.01, 0.01, 0.01, 0.01, 0.01, 0.01, 0.01, 0.01, 0.01, 0.01, 0.01, 0.01, 0.01, 0.01, 0.01, 0.01, 0.01, 0.01, 0.01, 0.01, 0.01, 0.01, 0.01, 0.01, 0.01, 0.01, 0.01, 0.01, 0.01, 0.01, 0.01, 0.01, 0.01, 0.01, 0.01, 0.01, 0.01, 0.01, 0.01, 0.01, 0.01, 0.01, 0.01, 0.01, 0.01, 0.01, 0.01, 0.01, 0.01, 0.01, 0.01, 0.01, 0.01, 0.01, 0.01, 0.01, 0.01, 0.01, 0.01, 0.01, 0.01, 0.01, 0.01, 0.01, 0.01, 0.01, 0.01, 0.01, 0.01, 0.01, 0.01, 0.01, 0.01]\n",
            "actual location (23, 20)\n",
            "Best estimation (23.74639876175374, 20.82654056917067)\n",
            "(23, 20)\n"
          ],
          "name": "stdout"
        },
        {
          "output_type": "display_data",
          "data": {
            "text/plain": [
              "<Figure size 432x288 with 0 Axes>"
            ]
          },
          "metadata": {
            "tags": []
          }
        },
        {
          "output_type": "display_data",
          "data": {
            "image/png": "[encoded data removed]",
            "text/plain": [
              "<Figure size 432x288 with 1 Axes>"
            ]
          },
          "metadata": {
            "tags": [],
            "needs_background": "light"
          }
        },
        {
          "output_type": "stream",
          "text": [
            "[0.01, 0.01, 0.01, 0.01, 0.01, 0.01, 0.01, 0.01, 0.01, 0.01, 0.01, 0.01, 0.01, 0.01, 0.01, 0.01, 0.01, 0.01, 0.01, 0.01, 0.01, 0.01, 0.01, 0.01, 0.01, 0.01, 0.01, 0.01, 0.01, 0.01, 0.01, 0.01, 0.01, 0.01, 0.01, 0.01, 0.01, 0.01, 0.01, 0.01, 0.01, 0.01, 0.01, 0.01, 0.01, 0.01, 0.01, 0.01, 0.01, 0.01, 0.01, 0.01, 0.01, 0.01, 0.01, 0.01, 0.01, 0.01, 0.01, 0.01, 0.01, 0.01, 0.01, 0.01, 0.01, 0.01, 0.01, 0.01, 0.01, 0.01, 0.01, 0.01, 0.01, 0.01, 0.01, 0.01, 0.01, 0.01, 0.01, 0.01, 0.01, 0.01, 0.01, 0.01, 0.01, 0.01, 0.01, 0.01, 0.01, 0.01, 0.01, 0.01, 0.01, 0.01, 0.01, 0.01, 0.01, 0.01, 0.01, 0.01]\n",
            "actual location (24, 20)\n",
            "Best estimation (17.34234678853833, 18.048663689304643)\n",
            "(24, 20)\n"
          ],
          "name": "stdout"
        },
        {
          "output_type": "display_data",
          "data": {
            "text/plain": [
              "<Figure size 432x288 with 0 Axes>"
            ]
          },
          "metadata": {
            "tags": []
          }
        },
        {
          "output_type": "display_data",
          "data": {
            "image/png": "[encoded data removed]",
            "text/plain": [
              "<Figure size 432x288 with 1 Axes>"
            ]
          },
          "metadata": {
            "tags": [],
            "needs_background": "light"
          }
        },
        {
          "output_type": "stream",
          "text": [
            "[0.01, 0.01, 0.01, 0.01, 0.01, 0.01, 0.01, 0.01, 0.01, 0.01, 0.01, 0.01, 0.01, 0.01, 0.01, 0.01, 0.01, 0.01, 0.01, 0.01, 0.01, 0.01, 0.01, 0.01, 0.01, 0.01, 0.01, 0.01, 0.01, 0.01, 0.01, 0.01, 0.01, 0.01, 0.01, 0.01, 0.01, 0.01, 0.01, 0.01, 0.01, 0.01, 0.01, 0.01, 0.01, 0.01, 0.01, 0.01, 0.01, 0.01, 0.01, 0.01, 0.01, 0.01, 0.01, 0.01, 0.01, 0.01, 0.01, 0.01, 0.01, 0.01, 0.01, 0.01, 0.01, 0.01, 0.01, 0.01, 0.01, 0.01, 0.01, 0.01, 0.01, 0.01, 0.01, 0.01, 0.01, 0.01, 0.01, 0.01, 0.01, 0.01, 0.01, 0.01, 0.01, 0.01, 0.01, 0.01, 0.01, 0.01, 0.01, 0.01, 0.01, 0.01, 0.01, 0.01, 0.01, 0.01, 0.01, 0.01]\n",
            "actual location (25, 20)\n",
            "Best estimation (13.553684118666276, 17.495920690967907)\n",
            "(25, 20)\n"
          ],
          "name": "stdout"
        },
        {
          "output_type": "display_data",
          "data": {
            "text/plain": [
              "<Figure size 432x288 with 0 Axes>"
            ]
          },
          "metadata": {
            "tags": []
          }
        },
        {
          "output_type": "display_data",
          "data": {
            "image/png": "[encoded data removed]",
            "text/plain": [
              "<Figure size 432x288 with 1 Axes>"
            ]
          },
          "metadata": {
            "tags": [],
            "needs_background": "light"
          }
        },
        {
          "output_type": "stream",
          "text": [
            "[0.01, 0.01, 0.01, 0.01, 0.01, 0.01, 0.01, 0.01, 0.01, 0.01, 0.01, 0.01, 0.01, 0.01, 0.01, 0.01, 0.01, 0.01, 0.01, 0.01, 0.01, 0.01, 0.01, 0.01, 0.01, 0.01, 0.01, 0.01, 0.01, 0.01, 0.01, 0.01, 0.01, 0.01, 0.01, 0.01, 0.01, 0.01, 0.01, 0.01, 0.01, 0.01, 0.01, 0.01, 0.01, 0.01, 0.01, 0.01, 0.01, 0.01, 0.01, 0.01, 0.01, 0.01, 0.01, 0.01, 0.01, 0.01, 0.01, 0.01, 0.01, 0.01, 0.01, 0.01, 0.01, 0.01, 0.01, 0.01, 0.01, 0.01, 0.01, 0.01, 0.01, 0.01, 0.01, 0.01, 0.01, 0.01, 0.01, 0.01, 0.01, 0.01, 0.01, 0.01, 0.01, 0.01, 0.01, 0.01, 0.01, 0.01, 0.01, 0.01, 0.01, 0.01, 0.01, 0.01, 0.01, 0.01, 0.01, 0.01]\n",
            "actual location (26, 20)\n",
            "Best estimation (14.740613340969544, 14.251259743104253)\n",
            "(26, 20)\n"
          ],
          "name": "stdout"
        },
        {
          "output_type": "display_data",
          "data": {
            "text/plain": [
              "<Figure size 432x288 with 0 Axes>"
            ]
          },
          "metadata": {
            "tags": []
          }
        },
        {
          "output_type": "display_data",
          "data": {
            "image/png": "[encoded data removed]",
            "text/plain": [
              "<Figure size 432x288 with 1 Axes>"
            ]
          },
          "metadata": {
            "tags": [],
            "needs_background": "light"
          }
        },
        {
          "output_type": "stream",
          "text": [
            "[0.01, 0.01, 0.01, 0.01, 0.01, 0.01, 0.01, 0.01, 0.01, 0.01, 0.01, 0.01, 0.01, 0.01, 0.01, 0.01, 0.01, 0.01, 0.01, 0.01, 0.01, 0.01, 0.01, 0.01, 0.01, 0.01, 0.01, 0.01, 0.01, 0.01, 0.01, 0.01, 0.01, 0.01, 0.01, 0.01, 0.01, 0.01, 0.01, 0.01, 0.01, 0.01, 0.01, 0.01, 0.01, 0.01, 0.01, 0.01, 0.01, 0.01, 0.01, 0.01, 0.01, 0.01, 0.01, 0.01, 0.01, 0.01, 0.01, 0.01, 0.01, 0.01, 0.01, 0.01, 0.01, 0.01, 0.01, 0.01, 0.01, 0.01, 0.01, 0.01, 0.01, 0.01, 0.01, 0.01, 0.01, 0.01, 0.01, 0.01, 0.01, 0.01, 0.01, 0.01, 0.01, 0.01, 0.01, 0.01, 0.01, 0.01, 0.01, 0.01, 0.01, 0.01, 0.01, 0.01, 0.01, 0.01, 0.01, 0.01]\n",
            "actual location (27, 20)\n",
            "Best estimation (16.55021294297553, 15.184897964700124)\n",
            "(27, 20)\n"
          ],
          "name": "stdout"
        },
        {
          "output_type": "display_data",
          "data": {
            "text/plain": [
              "<Figure size 432x288 with 0 Axes>"
            ]
          },
          "metadata": {
            "tags": []
          }
        },
        {
          "output_type": "display_data",
          "data": {
            "image/png": "[encoded data removed]",
            "text/plain": [
              "<Figure size 432x288 with 1 Axes>"
            ]
          },
          "metadata": {
            "tags": [],
            "needs_background": "light"
          }
        },
        {
          "output_type": "stream",
          "text": [
            "[0.01, 0.01, 0.01, 0.01, 0.01, 0.01, 0.01, 0.01, 0.01, 0.01, 0.01, 0.01, 0.01, 0.01, 0.01, 0.01, 0.01, 0.01, 0.01, 0.01, 0.01, 0.01, 0.01, 0.01, 0.01, 0.01, 0.01, 0.01, 0.01, 0.01, 0.01, 0.01, 0.01, 0.01, 0.01, 0.01, 0.01, 0.01, 0.01, 0.01, 0.01, 0.01, 0.01, 0.01, 0.01, 0.01, 0.01, 0.01, 0.01, 0.01, 0.01, 0.01, 0.01, 0.01, 0.01, 0.01, 0.01, 0.01, 0.01, 0.01, 0.01, 0.01, 0.01, 0.01, 0.01, 0.01, 0.01, 0.01, 0.01, 0.01, 0.01, 0.01, 0.01, 0.01, 0.01, 0.01, 0.01, 0.01, 0.01, 0.01, 0.01, 0.01, 0.01, 0.01, 0.01, 0.01, 0.01, 0.01, 0.01, 0.01, 0.01, 0.01, 0.01, 0.01, 0.01, 0.01, 0.01, 0.01, 0.01, 0.01]\n",
            "actual location (28, 20)\n",
            "Best estimation (15.74533967867314, 15.495246431509118)\n",
            "(28, 20)\n"
          ],
          "name": "stdout"
        },
        {
          "output_type": "display_data",
          "data": {
            "text/plain": [
              "<Figure size 432x288 with 0 Axes>"
            ]
          },
          "metadata": {
            "tags": []
          }
        },
        {
          "output_type": "display_data",
          "data": {
            "image/png": "[encoded data removed]",
            "text/plain": [
              "<Figure size 432x288 with 1 Axes>"
            ]
          },
          "metadata": {
            "tags": [],
            "needs_background": "light"
          }
        },
        {
          "output_type": "stream",
          "text": [
            "[0.01, 0.01, 0.01, 0.01, 0.01, 0.01, 0.01, 0.01, 0.01, 0.01, 0.01, 0.01, 0.01, 0.01, 0.01, 0.01, 0.01, 0.01, 0.01, 0.01, 0.01, 0.01, 0.01, 0.01, 0.01, 0.01, 0.01, 0.01, 0.01, 0.01, 0.01, 0.01, 0.01, 0.01, 0.01, 0.01, 0.01, 0.01, 0.01, 0.01, 0.01, 0.01, 0.01, 0.01, 0.01, 0.01, 0.01, 0.01, 0.01, 0.01, 0.01, 0.01, 0.01, 0.01, 0.01, 0.01, 0.01, 0.01, 0.01, 0.01, 0.01, 0.01, 0.01, 0.01, 0.01, 0.01, 0.01, 0.01, 0.01, 0.01, 0.01, 0.01, 0.01, 0.01, 0.01, 0.01, 0.01, 0.01, 0.01, 0.01, 0.01, 0.01, 0.01, 0.01, 0.01, 0.01, 0.01, 0.01, 0.01, 0.01, 0.01, 0.01, 0.01, 0.01, 0.01, 0.01, 0.01, 0.01, 0.01, 0.01]\n",
            "actual location (29, 20)\n",
            "Best estimation (13.604309652846974, 11.90375346051787)\n",
            "(29, 20)\n"
          ],
          "name": "stdout"
        },
        {
          "output_type": "display_data",
          "data": {
            "text/plain": [
              "<Figure size 432x288 with 0 Axes>"
            ]
          },
          "metadata": {
            "tags": []
          }
        },
        {
          "output_type": "display_data",
          "data": {
            "image/png": "[encoded data removed]",
            "text/plain": [
              "<Figure size 432x288 with 1 Axes>"
            ]
          },
          "metadata": {
            "tags": [],
            "needs_background": "light"
          }
        },
        {
          "output_type": "display_data",
          "data": {
            "text/plain": [
              "<Figure size 432x288 with 0 Axes>"
            ]
          },
          "metadata": {
            "tags": []
          }
        }
      ]
    },
    {
      "cell_type": "code",
      "metadata": {
        "id": "yBtfY_mNE1_q",
        "colab_type": "code",
        "colab": {
          "base_uri": "https://localhost:8080/",
          "height": 34
        },
        "outputId": "e5346b1a-5035-4b3c-b75e-b75315e30198"
      },
      "source": [
        "r.Pose.cord"
      ],
      "execution_count": 18,
      "outputs": [
        {
          "output_type": "execute_result",
          "data": {
            "text/plain": [
              "(29, 20)"
            ]
          },
          "metadata": {
            "tags": []
          },
          "execution_count": 18
        }
      ]
    },
    {
      "cell_type": "code",
      "metadata": {
        "id": "h2dyRdbY43AZ",
        "colab_type": "code",
        "colab": {
          "base_uri": "https://localhost:8080/",
          "height": 301
        },
        "outputId": "377f5a58-589f-4f1a-c351-07fe59307958"
      },
      "source": [
        "_p.draw()"
      ],
      "execution_count": 14,
      "outputs": [
        {
          "output_type": "stream",
          "text": [
            "(29, 20)\n"
          ],
          "name": "stdout"
        },
        {
          "output_type": "display_data",
          "data": {
            "image/png": "[encoded data removed]",
            "text/plain": [
              "<Figure size 432x288 with 1 Axes>"
            ]
          },
          "metadata": {
            "tags": [],
            "needs_background": "light"
          }
        },
        {
          "output_type": "display_data",
          "data": {
            "text/plain": [
              "<Figure size 432x288 with 0 Axes>"
            ]
          },
          "metadata": {
            "tags": []
          }
        }
      ]
    },
    {
      "cell_type": "code",
      "metadata": {
        "id": "pRZZvHTKAJ0_",
        "colab_type": "code",
        "colab": {}
      },
      "source": [
        ""
      ],
      "execution_count": 14,
      "outputs": []
    }
  ]
}