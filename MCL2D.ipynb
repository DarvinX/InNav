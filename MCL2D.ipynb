{
  "nbformat": 4,
  "nbformat_minor": 0,
  "metadata": {
    "colab": {
      "name": "MCL2D.ipynb",
      "provenance": [],
      "collapsed_sections": [],
      "authorship_tag": "ABX9TyNB2n7EE1gfnz5sTU/Qwa3W",
      "include_colab_link": true
    },
    "kernelspec": {
      "name": "python3",
      "display_name": "Python 3"
    }
  },
  "cells": [
    {
      "cell_type": "markdown",
      "metadata": {
        "id": "view-in-github",
        "colab_type": "text"
      },
      "source": [
        "<a href=\"https://colab.research.google.com/github/DarvinX/InNav/blob/master/MCL2D.ipynb\" target=\"_parent\"><img src=\"https://colab.research.google.com/assets/colab-badge.svg\" alt=\"Open In Colab\"/></a>"
      ]
    },
    {
      "cell_type": "markdown",
      "metadata": {
        "id": "RoegFakPLTVf",
        "colab_type": "text"
      },
      "source": [
        "Importing all the needed modules."
      ]
    },
    {
      "cell_type": "code",
      "metadata": {
        "id": "nxHwXElDMYur",
        "colab_type": "code",
        "colab": {}
      },
      "source": [
        "#imports\n",
        "import numpy as np         \n",
        "from numpy import random   \n",
        "import math\n",
        "import copy\n",
        "import matplotlib.pyplot as plt"
      ],
      "execution_count": null,
      "outputs": []
    },
    {
      "cell_type": "markdown",
      "metadata": {
        "id": "exe0YVgTLrZR",
        "colab_type": "text"
      },
      "source": [
        "Defining a datatype to store the information of particle and robot's position.\n",
        "\n",
        "theta is the orientation."
      ]
    },
    {
      "cell_type": "code",
      "metadata": {
        "id": "HPWAOfOkM27N",
        "colab_type": "code",
        "colab": {}
      },
      "source": [
        "class Pose:\n",
        "  def __init__(self, x=0, y=0, theta=0):\n",
        "    self.x = int(x)\n",
        "    self.y = int(y)\n",
        "    self.theta = theta%(2*math.pi) #orientation\n",
        "    self.cord = (self.x, self.y)\n",
        " \n",
        "  def __repr__(self):\n",
        "    return \"x=\"+str(self.x)+\", y=\"+str(self.y)+\", theta=\"+str(self.theta)"
      ],
      "execution_count": null,
      "outputs": []
    },
    {
      "cell_type": "markdown",
      "metadata": {
        "id": "pPoByW9yMXjn",
        "colab_type": "text"
      },
      "source": [
        "Defining another object to handle noise.\n",
        "\n",
        "The mothod addNoise will add noise to the sensor realings. This is used to mimic real world sensor data that will have noise in it."
      ]
    },
    {
      "cell_type": "code",
      "metadata": {
        "id": "YtbSo6DvOT31",
        "colab_type": "code",
        "colab": {}
      },
      "source": [
        "class Noise:\n",
        "  def __init__(self,\n",
        "               linearNoise,\n",
        "               angularNoise):\n",
        "    self.linearNoise = linearNoise    # noise in distance reading\n",
        "    self.angularNoise = angularNoise  # noise in angle reading\n",
        "    \n",
        "  def addError(self, view_points):\n",
        "    res = []\n",
        "    #angle information eliminated for simplified testing\n",
        "    for p in view_points:\n",
        "        #angle, distance = p\n",
        "        distance = p\n",
        "        #new_angle = angle + np.random.normal(0.0, self.angularNoise)\n",
        "        new_distance = distance + np.random.normal(0.0, self.linearNoise)\n",
        "        res.append((\n",
        "            #new_angle,\n",
        "             new_distance))\n",
        "    return res"
      ],
      "execution_count": null,
      "outputs": []
    },
    {
      "cell_type": "markdown",
      "metadata": {
        "id": "PKZZhMTDNF1K",
        "colab_type": "text"
      },
      "source": [
        "Map object handles the operations related to the map, this same object is used to build and update the map."
      ]
    },
    {
      "cell_type": "code",
      "metadata": {
        "id": "NluAFvvNzKb3",
        "colab_type": "code",
        "colab": {}
      },
      "source": [
        "class Map:\n",
        "  def __init__(self, dim=(20,20)):\n",
        "    self.height = dim[0]\n",
        "    self.width = dim[1]\n",
        "    self.map = np.ones((self.height, self.width))\n",
        "    self.mapPoints = []\n",
        " \n",
        "  def addBlock(self, loc, color=0):\n",
        "    try:\n",
        "      self.map[int(loc[1])][int(loc[0])] = color\n",
        "      self.mapPoints.append(loc)\n",
        "    except:\n",
        "      pass\n",
        " \n",
        "  def draw(self):\n",
        "    plt.figure()\n",
        "    plt.imshow(self.map, cmap='gray')\n",
        "    plt.show()\n",
        "  \n",
        "  def getMapPoints(self):\n",
        "    return list(zip(*np.where(self.map==0)))\n",
        " \n",
        "  def drawLine(self, \n",
        "               startPoint, \n",
        "               endPoint, \n",
        "               width=1, \n",
        "               show=False):\n",
        "    s_y = startPoint[0]\n",
        "    s_x = startPoint[1]\n",
        "    e_y = endPoint[0]\n",
        "    e_x = endPoint[1]\n",
        " \n",
        "    if s_y > self.height or s_y < 0 or \\\n",
        "       s_x > self.width or s_x < 0:\n",
        "      print(\"starting point out of boundary\")\n",
        " \n",
        "    if e_y > self.height or e_y < 0 or \\\n",
        "       e_x > self.width or e_x < 0:\n",
        "      print(\"end point out of boundary\")\n",
        "    \n",
        "    if s_x == e_x:\n",
        "      if s_y <= e_y:\n",
        "        for i in range(e_y-s_y):\n",
        "          try:\n",
        "            self.addBlock((s_x,s_y+i))\n",
        "          except:\n",
        "            pass\n",
        "    \n",
        "    if s_y == e_y:\n",
        "      if s_x <= e_x:\n",
        "        for i in range(e_x-s_x):\n",
        "          try:\n",
        "            self.addBlock((s_x+i,s_y))\n",
        "          except:\n",
        "            pass"
      ],
      "execution_count": null,
      "outputs": []
    },
    {
      "cell_type": "markdown",
      "metadata": {
        "id": "gwTpU1xxNEvd",
        "colab_type": "text"
      },
      "source": [
        "This function will generate a test map. In real world scenario this map should be provided."
      ]
    },
    {
      "cell_type": "code",
      "metadata": {
        "id": "FyryNiDy2Hei",
        "colab_type": "code",
        "colab": {}
      },
      "source": [
        "def defaultMap(): # build a default test map\n",
        "  N_map = 50\n",
        "  map = Map((N_map,N_map))\n",
        "  y = 0\n",
        "  map.drawLine((0,y),(9,y))\n",
        "  map.drawLine((15,y),(30,y))\n",
        "  map.drawLine((40,y),(50,y))\n",
        " \n",
        "  y = 10\n",
        "  map.drawLine((0,y),(15,y))\n",
        "  map.drawLine((35,y),(40,y))\n",
        "  map.drawLine((45,y),(50,y))\n",
        " \n",
        "  y= 25\n",
        "  map.drawLine((0,y),(9,y))\n",
        "  map.drawLine((30,y),(35,y))\n",
        " \n",
        "  y= 40\n",
        "  map.drawLine((0,y),(9,y))\n",
        "  map.drawLine((15,y),(30,y))\n",
        "  map.drawLine((40,y),(50,y))\n",
        " \n",
        "  ## x lines\n",
        "  x= 40\n",
        "  map.drawLine((x, 0),(x,12))\n",
        "  map.drawLine((x,30),(x,35))\n",
        "  map.drawLine((x,45),(x,50))\n",
        " \n",
        "  x= 30\n",
        "  map.drawLine((x, 0),(x,12))\n",
        "  map.drawLine((x,15),(x,25))\n",
        "  map.drawLine((x,45),(x,50))\n",
        " \n",
        "  x= 10\n",
        "  map.drawLine((x, 0),(x,12))\n",
        "  map.drawLine((x,25),(x,35))\n",
        " \n",
        "  x= 0\n",
        "  map.drawLine((x, 5),(x,12))\n",
        "  map.drawLine((x,30),(x,35))\n",
        "  return map"
      ],
      "execution_count": null,
      "outputs": []
    },
    {
      "cell_type": "markdown",
      "metadata": {
        "id": "LrnaJPrON06F",
        "colab_type": "text"
      },
      "source": [
        "Visualise the map"
      ]
    },
    {
      "cell_type": "code",
      "metadata": {
        "id": "1s25wUCKEmms",
        "colab_type": "code",
        "colab": {
          "base_uri": "https://localhost:8080/",
          "height": 267
        },
        "outputId": "d6edf8e3-8b7d-478d-e6ab-9913c076fece"
      },
      "source": [
        "map=defaultMap()\n",
        "#map.addBlock((2,5))\n",
        "map.draw()"
      ],
      "execution_count": null,
      "outputs": [
        {
          "output_type": "display_data",
          "data": {
            "image/png": "[encoded data removed]",
            "text/plain": [
              "<Figure size 432x288 with 1 Axes>"
            ]
          },
          "metadata": {
            "tags": [],
            "needs_background": "light"
          }
        }
      ]
    },
    {
      "cell_type": "markdown",
      "metadata": {
        "id": "4PpCjrHsN5pK",
        "colab_type": "text"
      },
      "source": [
        "Some extra utility functions that will be needed."
      ]
    },
    {
      "cell_type": "code",
      "metadata": {
        "id": "dtPPDk2_Qhcw",
        "colab_type": "code",
        "colab": {}
      },
      "source": [
        "class Utility:\n",
        "  @staticmethod\n",
        "  def distance(a, b):\n",
        "    return np.linalg.norm(np.array([a.x, a.y]) - np.array([b.x,b.y]))\n",
        "  \n",
        "  @staticmethod\n",
        "  def Gaussian(mu, sigma, x):\n",
        "    #sigma is the gaussian noise measurement(standard deviation)\n",
        "    #sigma can't be zero, division by zero error\n",
        "    rtn = np.exp(-((mu-x)**2)/(sigma**2)/2.0)/np.sqrt(2.0*np.pi*(sigma**2))\n",
        "    #print(rtn)\n",
        "    return rtn"
      ],
      "execution_count": null,
      "outputs": []
    },
    {
      "cell_type": "code",
      "metadata": {
        "id": "tPwEwaEByzxP",
        "colab_type": "code",
        "colab": {}
      },
      "source": [
        ""
      ],
      "execution_count": null,
      "outputs": []
    },
    {
      "cell_type": "markdown",
      "metadata": {
        "id": "yLGyrRhxOLWx",
        "colab_type": "text"
      },
      "source": [
        "This object will handle all the operations related to the robot. This object is used to define the real robot and also used to give the particles same property as the robot."
      ]
    },
    {
      "cell_type": "code",
      "metadata": {
        "id": "8yl2tgdsOtuw",
        "colab_type": "code",
        "colab": {}
      },
      "source": [
        "class Robot:\n",
        "  def __init__(self, pose,\n",
        "               linearNoise=5.5,\n",
        "               angularNoise=0.1,\n",
        "               map=map):\n",
        " \n",
        "    self.Pose = pose\n",
        "    self.Noise = Noise(linearNoise,\n",
        "                       angularNoise)\n",
        "    self.setSensorSpec()\n",
        "    self.mapPoints = []\n",
        "    self.setMap(map)\n",
        "    \n",
        "  def getPose(self):\n",
        "    return self.Pose\n",
        " \n",
        "  def setMap(self, map):\n",
        "    self.mapPoints = map.mapPoints\n",
        " \n",
        "  def setNoise(self, \n",
        "               linearNoise, \n",
        "               angularNoise,\n",
        "               ):\n",
        "    self.Noise = Noise(linearNoise,\n",
        "                       angularNoise,\n",
        "                       )\n",
        " \n",
        "  def setSensorSpec(self,\n",
        "                    angleSweep=math.pi/4,\n",
        "                    sweepNumber=8):\n",
        "    self.angleSweep = angleSweep\n",
        "    self.sweepNumber = sweepNumber\n",
        " \n",
        "  def angleAndDistance(self, robotLocation, pointLocation):\n",
        "    rx, ry = robotLocation\n",
        "    px, py = pointLocation\n",
        "    dx = px - rx\n",
        "    dy = py - ry\n",
        "    distance = math.sqrt(dx**2 + dy**2)\n",
        "    angle = math.atan2(dy, dx)\n",
        "    return (angle, distance)\n",
        " \n",
        "  def angleRange(self, center):\n",
        "    delta = self.angleSweep\n",
        "    n = self.sweepNumber\n",
        "    return [(center - delta) + delta * i / n for i in range(2 * n + 1)]\n",
        " \n",
        "  def closestPointInSwath(self, min_angle, max_angle, robotLocation):\n",
        "    pts = []\n",
        "    for p in self.mapPoints:\n",
        "        angle, distance = self.angleAndDistance(robotLocation, p)\n",
        "        if angle > min_angle and angle < max_angle:\n",
        "            pts.append(distance)\n",
        "    pts = sorted(pts)\n",
        "    if len(pts) > 0:\n",
        "        return pts[0]\n",
        "    return 0\n",
        " \n",
        "  def sense(self):\n",
        "    pts = []\n",
        "    angles = self.angleRange(self.Pose.theta)\n",
        "    delta = self.angleSweep / self.sweepNumber\n",
        "    for a in angles:\n",
        "        min_a = a - delta / 2.0\n",
        "        max_a = a + delta / 2.0\n",
        "        distance = self.closestPointInSwath(min_a, max_a, self.Pose.cord)\n",
        "        if distance is not None:\n",
        "            pts.append((\n",
        "                #a,\n",
        "                distance))\n",
        "    return self.Noise.addError(pts)\n",
        " \n",
        "  def moveTo(self, pose):\n",
        "    self.Pose = pose"
      ],
      "execution_count": null,
      "outputs": []
    },
    {
      "cell_type": "markdown",
      "metadata": {
        "id": "1lBwIDa7OvXz",
        "colab_type": "text"
      },
      "source": [
        "Test all the things and visualise the virtual lidar readings."
      ]
    },
    {
      "cell_type": "code",
      "metadata": {
        "id": "FSFOKjT1awPX",
        "colab_type": "code",
        "colab": {
          "base_uri": "https://localhost:8080/",
          "height": 271
        },
        "outputId": "8d004431-1761-400f-dff8-be40869cc343"
      },
      "source": [
        "r = Robot(Pose(2,     # x\n",
        "               2,     # y\n",
        "               0.1))  # theta\n",
        "d = r.sense()         # take readings from virtual lidar\n",
        "print(d)\n",
        "a = [i*math.pi/4 for i in range(len(d))]\n",
        "print(a)\n",
        "plt.scatter(a, d)"
      ],
      "execution_count": null,
      "outputs": [
        {
          "output_type": "stream",
          "text": [
            "[2.833157756787559, -0.04125407095517675, 2.116993820575457, 3.900315113692513, 3.6718371470289237, 5.215191117920666, -2.2669360674843997, 10.873656063945017, 6.954831759718271, -0.1748150438984748, 21.67694534320219, 14.031424694275934, 10.471831002791937, 2.0418195171407607, 10.263272875267385, 18.67153632666973, 5.0091775052113485]\n",
            "[0.0, 0.7853981633974483, 1.5707963267948966, 2.356194490192345, 3.141592653589793, 3.9269908169872414, 4.71238898038469, 5.497787143782138, 6.283185307179586, 7.0685834705770345, 7.853981633974483, 8.63937979737193, 9.42477796076938, 10.210176124166829, 10.995574287564276, 11.780972450961723, 12.566370614359172]\n"
          ],
          "name": "stdout"
        },
        {
          "output_type": "execute_result",
          "data": {
            "text/plain": [
              "<matplotlib.collections.PathCollection at 0x7f61dce39ba8>"
            ]
          },
          "metadata": {
            "tags": []
          },
          "execution_count": 82
        },
        {
          "output_type": "display_data",
          "data": {
            "image/png": "[encoded data removed]",
            "text/plain": [
              "<Figure size 432x288 with 1 Axes>"
            ]
          },
          "metadata": {
            "tags": [],
            "needs_background": "light"
          }
        }
      ]
    },
    {
      "cell_type": "markdown",
      "metadata": {
        "id": "J3YrDy_BPmn-",
        "colab_type": "text"
      },
      "source": [
        "Object to handle all the operations related to particle."
      ]
    },
    {
      "cell_type": "code",
      "metadata": {
        "id": "h4V9zj_hfnED",
        "colab_type": "code",
        "colab": {}
      },
      "source": [
        "class Particles:\n",
        "  def __init__(self,\n",
        "               num_particles,\n",
        "               map,\n",
        "               robot):\n",
        "    self.num_particles = num_particles\n",
        "    self.maxHeight = map.height\n",
        "    self.maxWidth = map.width\n",
        "    self.map = map\n",
        "    self.robot = robot\n",
        "    self.linearNoise = self.robot.Noise.linearNoise\n",
        "    self.init()\n",
        "    self.Location_std = 3.0\n",
        "    self.Direction_std = 1.0\n",
        " \n",
        "  def init(self):\n",
        "    self.particles = []\n",
        "    for i in range(self.num_particles):\n",
        "      x = np.random.uniform(0, self.maxWidth)\n",
        "      y = np.random.uniform(0, self.maxHeight)\n",
        "      d = np.random.uniform(0.0, 2 * math.pi)\n",
        "      particle = Robot(Pose(x,y,d), )\n",
        "      self.particles.append(particle)\n",
        "  \n",
        "  def generateWeights(self, lidarScan):\n",
        "    weights = []\n",
        "    totalProb = 0\n",
        "    for ptl in self.particles:\n",
        "      d_p = ptl.sense()\n",
        "      #print(d_p)\n",
        "      weight = 1.0\n",
        "      for i in range(len(lidarScan)):\n",
        "        weight *= Utility.Gaussian(d_p[i], self.linearNoise, lidarScan[i])\n",
        "      #print(prob)\n",
        "      weights.append(weight)\n",
        "      totalProb += weight\n",
        "    \n",
        "    #print(totalProb)\n",
        "    if totalProb > 1:\n",
        "      return [weight/totalProb for weight in weights]\n",
        " \n",
        "    else:\n",
        "      return [1/float(len(weights)) for i in weights]\n",
        " \n",
        " \n",
        " \n",
        "  def Resample(self, weights):\n",
        "    newParticles = []\n",
        "    self.bestEst = self.particles[weights.index(max(weights))].Pose\n",
        "    print(weights)\n",
        "    indices = [i for i,_ in enumerate(weights)]\n",
        "    for i in indices:\n",
        "      selected_index = np.random.choice(indices, p=weights)\n",
        "      particle = self.particles[selected_index]\n",
        "      newParticles.append(particle)\n",
        "    self.particles = newParticles\n",
        " \n",
        "  def updateWeights(self, lidarScan):\n",
        "    weights = self.generateWeights(lidarScan)\n",
        "    #print(weights)\n",
        "    self.Resample(weights)\n",
        " \n",
        "  def updatePositions(self):\n",
        "    new_particles = []\n",
        "    for particle in self.particles:\n",
        "      p = copy.copy(particle)\n",
        "      x, y = p.Pose.cord\n",
        "      x += np.random.normal(0.0, self.Location_std)\n",
        "      y += np.random.normal(0.0, self.Location_std)\n",
        "      p.Pose.cord = (x,y)\n",
        "      p.Pose.theta += np.random.normal(0.0, self.Direction_std)\n",
        "      new_particles.append(p)\n",
        "    self.particles = new_particles\n",
        " \n",
        "  def update(self, lidarScan):\n",
        "    self.updateWeights(lidarScan)\n",
        "    self.updatePositions()\n",
        " \n",
        "  def draw(self):\n",
        "    print('particles',len(self.particles))\n",
        "    temp_map = copy.deepcopy(self.map)\n",
        "    \n",
        "    for p in self.particles:\n",
        "      #print(p.Pose.cord)\n",
        "      temp_map.addBlock(p.Pose.cord, 0.8)\n",
        "    #print(self.robot.Pose.cord)\n",
        "    temp_map.addBlock(self.robot.Pose.cord, 0.5)\n",
        "    temp_map.draw()\n",
        " \n",
        "  def APL(self):\n",
        "    ps = [p.Pose.cord for p in self.particles]\n",
        "    x, y = zip(*ps)\n",
        "    return self.bestEst"
      ],
      "execution_count": null,
      "outputs": []
    },
    {
      "cell_type": "markdown",
      "metadata": {
        "id": "LvrmjTidPxUi",
        "colab_type": "text"
      },
      "source": [
        "Bringing everything together."
      ]
    },
    {
      "cell_type": "code",
      "metadata": {
        "id": "fWitGEjCgOI-",
        "colab_type": "code",
        "colab": {
          "base_uri": "https://localhost:8080/",
          "height": 1000
        },
        "outputId": "04bdfd66-51b2-4191-ddab-799e87866a51"
      },
      "source": [
        "r = Robot(Pose(30,30,0), #Pose\n",
        "               0.1,0.1)  #noise\n",
        "\n",
        "_p = Particles(100,   #number of particles\n",
        "               map,   #grid map\n",
        "               r)     #actual robot\n",
        " \n",
        "T = 10   # epochs\n",
        "\n",
        "#motion model\n",
        "#path = [(20+x,20) for x in range(10)]\n",
        " \n",
        " \n",
        "for i in range(T):\n",
        "  print(\"Time step:\",i)\n",
        "  _p.update(r.sense())\n",
        "  #motion model\n",
        "  #r.moveTo(Pose(path[i][0],path[i][1],math.pi))\n",
        "  location_estimation = _p.APL()\n",
        "  print(\"actual location\", r.Pose)\n",
        "  print(\"Best estimation\",location_estimation)\n",
        "  _p.draw()"
      ],
      "execution_count": null,
      "outputs": [
        {
          "output_type": "stream",
          "text": [
            "Time step: 0\n",
            "[0.01, 0.01, 0.01, 0.01, 0.01, 0.01, 0.01, 0.01, 0.01, 0.01, 0.01, 0.01, 0.01, 0.01, 0.01, 0.01, 0.01, 0.01, 0.01, 0.01, 0.01, 0.01, 0.01, 0.01, 0.01, 0.01, 0.01, 0.01, 0.01, 0.01, 0.01, 0.01, 0.01, 0.01, 0.01, 0.01, 0.01, 0.01, 0.01, 0.01, 0.01, 0.01, 0.01, 0.01, 0.01, 0.01, 0.01, 0.01, 0.01, 0.01, 0.01, 0.01, 0.01, 0.01, 0.01, 0.01, 0.01, 0.01, 0.01, 0.01, 0.01, 0.01, 0.01, 0.01, 0.01, 0.01, 0.01, 0.01, 0.01, 0.01, 0.01, 0.01, 0.01, 0.01, 0.01, 0.01, 0.01, 0.01, 0.01, 0.01, 0.01, 0.01, 0.01, 0.01, 0.01, 0.01, 0.01, 0.01, 0.01, 0.01, 0.01, 0.01, 0.01, 0.01, 0.01, 0.01, 0.01, 0.01, 0.01, 0.01]\n",
            "actual location x=30, y=30, theta=0.0\n",
            "Best estimation x=22, y=18, theta=200.33698645307078\n",
            "particles 100\n"
          ],
          "name": "stdout"
        },
        {
          "output_type": "display_data",
          "data": {
            "image/png": "[encoded data removed]",
            "text/plain": [
              "<Figure size 432x288 with 1 Axes>"
            ]
          },
          "metadata": {
            "tags": [],
            "needs_background": "light"
          }
        },
        {
          "output_type": "stream",
          "text": [
            "Time step: 1\n",
            "[0.01, 0.01, 0.01, 0.01, 0.01, 0.01, 0.01, 0.01, 0.01, 0.01, 0.01, 0.01, 0.01, 0.01, 0.01, 0.01, 0.01, 0.01, 0.01, 0.01, 0.01, 0.01, 0.01, 0.01, 0.01, 0.01, 0.01, 0.01, 0.01, 0.01, 0.01, 0.01, 0.01, 0.01, 0.01, 0.01, 0.01, 0.01, 0.01, 0.01, 0.01, 0.01, 0.01, 0.01, 0.01, 0.01, 0.01, 0.01, 0.01, 0.01, 0.01, 0.01, 0.01, 0.01, 0.01, 0.01, 0.01, 0.01, 0.01, 0.01, 0.01, 0.01, 0.01, 0.01, 0.01, 0.01, 0.01, 0.01, 0.01, 0.01, 0.01, 0.01, 0.01, 0.01, 0.01, 0.01, 0.01, 0.01, 0.01, 0.01, 0.01, 0.01, 0.01, 0.01, 0.01, 0.01, 0.01, 0.01, 0.01, 0.01, 0.01, 0.01, 0.01, 0.01, 0.01, 0.01, 0.01, 0.01, 0.01, 0.01]\n",
            "actual location x=30, y=30, theta=0.0\n",
            "Best estimation x=9, y=19, theta=123.87437431126197\n",
            "particles 100\n"
          ],
          "name": "stdout"
        },
        {
          "output_type": "display_data",
          "data": {
            "image/png": "[encoded data removed]",
            "text/plain": [
              "<Figure size 432x288 with 1 Axes>"
            ]
          },
          "metadata": {
            "tags": [],
            "needs_background": "light"
          }
        },
        {
          "output_type": "stream",
          "text": [
            "Time step: 2\n",
            "[0.01, 0.01, 0.01, 0.01, 0.01, 0.01, 0.01, 0.01, 0.01, 0.01, 0.01, 0.01, 0.01, 0.01, 0.01, 0.01, 0.01, 0.01, 0.01, 0.01, 0.01, 0.01, 0.01, 0.01, 0.01, 0.01, 0.01, 0.01, 0.01, 0.01, 0.01, 0.01, 0.01, 0.01, 0.01, 0.01, 0.01, 0.01, 0.01, 0.01, 0.01, 0.01, 0.01, 0.01, 0.01, 0.01, 0.01, 0.01, 0.01, 0.01, 0.01, 0.01, 0.01, 0.01, 0.01, 0.01, 0.01, 0.01, 0.01, 0.01, 0.01, 0.01, 0.01, 0.01, 0.01, 0.01, 0.01, 0.01, 0.01, 0.01, 0.01, 0.01, 0.01, 0.01, 0.01, 0.01, 0.01, 0.01, 0.01, 0.01, 0.01, 0.01, 0.01, 0.01, 0.01, 0.01, 0.01, 0.01, 0.01, 0.01, 0.01, 0.01, 0.01, 0.01, 0.01, 0.01, 0.01, 0.01, 0.01, 0.01]\n",
            "actual location x=30, y=30, theta=0.0\n",
            "Best estimation x=33, y=22, theta=-166.78775340507707\n",
            "particles 100\n"
          ],
          "name": "stdout"
        },
        {
          "output_type": "display_data",
          "data": {
            "image/png": "[encoded data removed]",
            "text/plain": [
              "<Figure size 432x288 with 1 Axes>"
            ]
          },
          "metadata": {
            "tags": [],
            "needs_background": "light"
          }
        },
        {
          "output_type": "stream",
          "text": [
            "Time step: 3\n",
            "[0.01, 0.01, 0.01, 0.01, 0.01, 0.01, 0.01, 0.01, 0.01, 0.01, 0.01, 0.01, 0.01, 0.01, 0.01, 0.01, 0.01, 0.01, 0.01, 0.01, 0.01, 0.01, 0.01, 0.01, 0.01, 0.01, 0.01, 0.01, 0.01, 0.01, 0.01, 0.01, 0.01, 0.01, 0.01, 0.01, 0.01, 0.01, 0.01, 0.01, 0.01, 0.01, 0.01, 0.01, 0.01, 0.01, 0.01, 0.01, 0.01, 0.01, 0.01, 0.01, 0.01, 0.01, 0.01, 0.01, 0.01, 0.01, 0.01, 0.01, 0.01, 0.01, 0.01, 0.01, 0.01, 0.01, 0.01, 0.01, 0.01, 0.01, 0.01, 0.01, 0.01, 0.01, 0.01, 0.01, 0.01, 0.01, 0.01, 0.01, 0.01, 0.01, 0.01, 0.01, 0.01, 0.01, 0.01, 0.01, 0.01, 0.01, 0.01, 0.01, 0.01, 0.01, 0.01, 0.01, 0.01, 0.01, 0.01, 0.01]\n",
            "actual location x=30, y=30, theta=0.0\n",
            "Best estimation x=17, y=15, theta=109.22621129600698\n",
            "particles 100\n"
          ],
          "name": "stdout"
        },
        {
          "output_type": "display_data",
          "data": {
            "image/png": "[encoded data removed]",
            "text/plain": [
              "<Figure size 432x288 with 1 Axes>"
            ]
          },
          "metadata": {
            "tags": [],
            "needs_background": "light"
          }
        },
        {
          "output_type": "stream",
          "text": [
            "Time step: 4\n",
            "[0.01, 0.01, 0.01, 0.01, 0.01, 0.01, 0.01, 0.01, 0.01, 0.01, 0.01, 0.01, 0.01, 0.01, 0.01, 0.01, 0.01, 0.01, 0.01, 0.01, 0.01, 0.01, 0.01, 0.01, 0.01, 0.01, 0.01, 0.01, 0.01, 0.01, 0.01, 0.01, 0.01, 0.01, 0.01, 0.01, 0.01, 0.01, 0.01, 0.01, 0.01, 0.01, 0.01, 0.01, 0.01, 0.01, 0.01, 0.01, 0.01, 0.01, 0.01, 0.01, 0.01, 0.01, 0.01, 0.01, 0.01, 0.01, 0.01, 0.01, 0.01, 0.01, 0.01, 0.01, 0.01, 0.01, 0.01, 0.01, 0.01, 0.01, 0.01, 0.01, 0.01, 0.01, 0.01, 0.01, 0.01, 0.01, 0.01, 0.01, 0.01, 0.01, 0.01, 0.01, 0.01, 0.01, 0.01, 0.01, 0.01, 0.01, 0.01, 0.01, 0.01, 0.01, 0.01, 0.01, 0.01, 0.01, 0.01, 0.01]\n",
            "actual location x=30, y=30, theta=0.0\n",
            "Best estimation x=1, y=39, theta=-58.97586421002442\n",
            "particles 100\n"
          ],
          "name": "stdout"
        },
        {
          "output_type": "display_data",
          "data": {
            "image/png": "[encoded data removed]",
            "text/plain": [
              "<Figure size 432x288 with 1 Axes>"
            ]
          },
          "metadata": {
            "tags": [],
            "needs_background": "light"
          }
        },
        {
          "output_type": "stream",
          "text": [
            "Time step: 5\n",
            "[0.01, 0.01, 0.01, 0.01, 0.01, 0.01, 0.01, 0.01, 0.01, 0.01, 0.01, 0.01, 0.01, 0.01, 0.01, 0.01, 0.01, 0.01, 0.01, 0.01, 0.01, 0.01, 0.01, 0.01, 0.01, 0.01, 0.01, 0.01, 0.01, 0.01, 0.01, 0.01, 0.01, 0.01, 0.01, 0.01, 0.01, 0.01, 0.01, 0.01, 0.01, 0.01, 0.01, 0.01, 0.01, 0.01, 0.01, 0.01, 0.01, 0.01, 0.01, 0.01, 0.01, 0.01, 0.01, 0.01, 0.01, 0.01, 0.01, 0.01, 0.01, 0.01, 0.01, 0.01, 0.01, 0.01, 0.01, 0.01, 0.01, 0.01, 0.01, 0.01, 0.01, 0.01, 0.01, 0.01, 0.01, 0.01, 0.01, 0.01, 0.01, 0.01, 0.01, 0.01, 0.01, 0.01, 0.01, 0.01, 0.01, 0.01, 0.01, 0.01, 0.01, 0.01, 0.01, 0.01, 0.01, 0.01, 0.01, 0.01]\n",
            "actual location x=30, y=30, theta=0.0\n",
            "Best estimation x=27, y=25, theta=235.01161242415043\n",
            "particles 100\n"
          ],
          "name": "stdout"
        },
        {
          "output_type": "display_data",
          "data": {
            "image/png": "[encoded data removed]",
            "text/plain": [
              "<Figure size 432x288 with 1 Axes>"
            ]
          },
          "metadata": {
            "tags": [],
            "needs_background": "light"
          }
        },
        {
          "output_type": "stream",
          "text": [
            "Time step: 6\n",
            "[0.01, 0.01, 0.01, 0.01, 0.01, 0.01, 0.01, 0.01, 0.01, 0.01, 0.01, 0.01, 0.01, 0.01, 0.01, 0.01, 0.01, 0.01, 0.01, 0.01, 0.01, 0.01, 0.01, 0.01, 0.01, 0.01, 0.01, 0.01, 0.01, 0.01, 0.01, 0.01, 0.01, 0.01, 0.01, 0.01, 0.01, 0.01, 0.01, 0.01, 0.01, 0.01, 0.01, 0.01, 0.01, 0.01, 0.01, 0.01, 0.01, 0.01, 0.01, 0.01, 0.01, 0.01, 0.01, 0.01, 0.01, 0.01, 0.01, 0.01, 0.01, 0.01, 0.01, 0.01, 0.01, 0.01, 0.01, 0.01, 0.01, 0.01, 0.01, 0.01, 0.01, 0.01, 0.01, 0.01, 0.01, 0.01, 0.01, 0.01, 0.01, 0.01, 0.01, 0.01, 0.01, 0.01, 0.01, 0.01, 0.01, 0.01, 0.01, 0.01, 0.01, 0.01, 0.01, 0.01, 0.01, 0.01, 0.01, 0.01]\n",
            "actual location x=30, y=30, theta=0.0\n",
            "Best estimation x=17, y=15, theta=249.28268733876382\n",
            "particles 100\n"
          ],
          "name": "stdout"
        },
        {
          "output_type": "display_data",
          "data": {
            "image/png": "[encoded data removed]",
            "text/plain": [
              "<Figure size 432x288 with 1 Axes>"
            ]
          },
          "metadata": {
            "tags": [],
            "needs_background": "light"
          }
        },
        {
          "output_type": "stream",
          "text": [
            "Time step: 7\n",
            "[0.01, 0.01, 0.01, 0.01, 0.01, 0.01, 0.01, 0.01, 0.01, 0.01, 0.01, 0.01, 0.01, 0.01, 0.01, 0.01, 0.01, 0.01, 0.01, 0.01, 0.01, 0.01, 0.01, 0.01, 0.01, 0.01, 0.01, 0.01, 0.01, 0.01, 0.01, 0.01, 0.01, 0.01, 0.01, 0.01, 0.01, 0.01, 0.01, 0.01, 0.01, 0.01, 0.01, 0.01, 0.01, 0.01, 0.01, 0.01, 0.01, 0.01, 0.01, 0.01, 0.01, 0.01, 0.01, 0.01, 0.01, 0.01, 0.01, 0.01, 0.01, 0.01, 0.01, 0.01, 0.01, 0.01, 0.01, 0.01, 0.01, 0.01, 0.01, 0.01, 0.01, 0.01, 0.01, 0.01, 0.01, 0.01, 0.01, 0.01, 0.01, 0.01, 0.01, 0.01, 0.01, 0.01, 0.01, 0.01, 0.01, 0.01, 0.01, 0.01, 0.01, 0.01, 0.01, 0.01, 0.01, 0.01, 0.01, 0.01]\n",
            "actual location x=30, y=30, theta=0.0\n",
            "Best estimation x=15, y=2, theta=-198.9076135395811\n",
            "particles 100\n"
          ],
          "name": "stdout"
        },
        {
          "output_type": "display_data",
          "data": {
            "image/png": "[encoded data removed]",
            "text/plain": [
              "<Figure size 432x288 with 1 Axes>"
            ]
          },
          "metadata": {
            "tags": [],
            "needs_background": "light"
          }
        },
        {
          "output_type": "stream",
          "text": [
            "Time step: 8\n",
            "[0.01, 0.01, 0.01, 0.01, 0.01, 0.01, 0.01, 0.01, 0.01, 0.01, 0.01, 0.01, 0.01, 0.01, 0.01, 0.01, 0.01, 0.01, 0.01, 0.01, 0.01, 0.01, 0.01, 0.01, 0.01, 0.01, 0.01, 0.01, 0.01, 0.01, 0.01, 0.01, 0.01, 0.01, 0.01, 0.01, 0.01, 0.01, 0.01, 0.01, 0.01, 0.01, 0.01, 0.01, 0.01, 0.01, 0.01, 0.01, 0.01, 0.01, 0.01, 0.01, 0.01, 0.01, 0.01, 0.01, 0.01, 0.01, 0.01, 0.01, 0.01, 0.01, 0.01, 0.01, 0.01, 0.01, 0.01, 0.01, 0.01, 0.01, 0.01, 0.01, 0.01, 0.01, 0.01, 0.01, 0.01, 0.01, 0.01, 0.01, 0.01, 0.01, 0.01, 0.01, 0.01, 0.01, 0.01, 0.01, 0.01, 0.01, 0.01, 0.01, 0.01, 0.01, 0.01, 0.01, 0.01, 0.01, 0.01, 0.01]\n",
            "actual location x=30, y=30, theta=0.0\n",
            "Best estimation x=22, y=18, theta=389.67244913411344\n",
            "particles 100\n"
          ],
          "name": "stdout"
        },
        {
          "output_type": "display_data",
          "data": {
            "image/png": "[encoded data removed]",
            "text/plain": [
              "<Figure size 432x288 with 1 Axes>"
            ]
          },
          "metadata": {
            "tags": [],
            "needs_background": "light"
          }
        },
        {
          "output_type": "stream",
          "text": [
            "Time step: 9\n",
            "[0.01, 0.01, 0.01, 0.01, 0.01, 0.01, 0.01, 0.01, 0.01, 0.01, 0.01, 0.01, 0.01, 0.01, 0.01, 0.01, 0.01, 0.01, 0.01, 0.01, 0.01, 0.01, 0.01, 0.01, 0.01, 0.01, 0.01, 0.01, 0.01, 0.01, 0.01, 0.01, 0.01, 0.01, 0.01, 0.01, 0.01, 0.01, 0.01, 0.01, 0.01, 0.01, 0.01, 0.01, 0.01, 0.01, 0.01, 0.01, 0.01, 0.01, 0.01, 0.01, 0.01, 0.01, 0.01, 0.01, 0.01, 0.01, 0.01, 0.01, 0.01, 0.01, 0.01, 0.01, 0.01, 0.01, 0.01, 0.01, 0.01, 0.01, 0.01, 0.01, 0.01, 0.01, 0.01, 0.01, 0.01, 0.01, 0.01, 0.01, 0.01, 0.01, 0.01, 0.01, 0.01, 0.01, 0.01, 0.01, 0.01, 0.01, 0.01, 0.01, 0.01, 0.01, 0.01, 0.01, 0.01, 0.01, 0.01, 0.01]\n",
            "actual location x=30, y=30, theta=0.0\n",
            "Best estimation x=25, y=39, theta=-86.02759765573066\n",
            "particles 100\n"
          ],
          "name": "stdout"
        },
        {
          "output_type": "display_data",
          "data": {
            "image/png": "[encoded data removed]",
            "text/plain": [
              "<Figure size 432x288 with 1 Axes>"
            ]
          },
          "metadata": {
            "tags": [],
            "needs_background": "light"
          }
        }
      ]
    },
    {
      "cell_type": "code",
      "metadata": {
        "id": "yBtfY_mNE1_q",
        "colab_type": "code",
        "colab": {
          "base_uri": "https://localhost:8080/",
          "height": 34
        },
        "outputId": "c6069f33-f61d-4ddc-9e78-dbfb195426f5"
      },
      "source": [
        "r.Pose.cord"
      ],
      "execution_count": null,
      "outputs": [
        {
          "output_type": "execute_result",
          "data": {
            "text/plain": [
              "(30, 30)"
            ]
          },
          "metadata": {
            "tags": []
          },
          "execution_count": 86
        }
      ]
    },
    {
      "cell_type": "code",
      "metadata": {
        "id": "h2dyRdbY43AZ",
        "colab_type": "code",
        "colab": {
          "base_uri": "https://localhost:8080/",
          "height": 284
        },
        "outputId": "94665ca7-5a72-4f09-cd02-036deb8f79c8"
      },
      "source": [
        "_p.draw()"
      ],
      "execution_count": null,
      "outputs": [
        {
          "output_type": "stream",
          "text": [
            "particles 100\n"
          ],
          "name": "stdout"
        },
        {
          "output_type": "display_data",
          "data": {
            "image/png": "[encoded data removed]",
            "text/plain": [
              "<Figure size 432x288 with 1 Axes>"
            ]
          },
          "metadata": {
            "tags": [],
            "needs_background": "light"
          }
        }
      ]
    },
    {
      "cell_type": "code",
      "metadata": {
        "id": "pRZZvHTKAJ0_",
        "colab_type": "code",
        "colab": {}
      },
      "source": [
        ""
      ],
      "execution_count": null,
      "outputs": []
    }
  ]
}