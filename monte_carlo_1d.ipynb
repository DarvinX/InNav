{
  "nbformat": 4,
  "nbformat_minor": 0,
  "metadata": {
    "colab": {
      "name": "monte carlo 1d.ipynb",
      "provenance": [],
      "collapsed_sections": [],
      "authorship_tag": "ABX9TyN8am2E1tdIxNF6KJixQ2/t",
      "include_colab_link": true
    },
    "kernelspec": {
      "name": "python3",
      "display_name": "Python 3"
    }
  },
  "cells": [
    {
      "cell_type": "markdown",
      "metadata": {
        "id": "view-in-github",
        "colab_type": "text"
      },
      "source": [
        "<a href=\"https://colab.research.google.com/github/DarvinX/InNav/blob/master/monte_carlo_1d.ipynb\" target=\"_parent\"><img src=\"https://colab.research.google.com/assets/colab-badge.svg\" alt=\"Open In Colab\"/></a>"
      ]
    },
    {
      "cell_type": "code",
      "metadata": {
        "id": "1lcKzAq0HPp7",
        "colab_type": "code",
        "colab": {}
      },
      "source": [
        "import numpy as np\n",
        "from numpy import random\n",
        "from math import *"
      ],
      "execution_count": 1,
      "outputs": []
    },
    {
      "cell_type": "code",
      "metadata": {
        "id": "kSy1OxkhHaFZ",
        "colab_type": "code",
        "colab": {}
      },
      "source": [
        "line = np.zeros(30)\n",
        "door_position = [9, 15, 25]\n",
        "for dp in door_position:\n",
        "  line[dp] = 1"
      ],
      "execution_count": 2,
      "outputs": []
    },
    {
      "cell_type": "code",
      "metadata": {
        "id": "9i5V4LueHnES",
        "colab_type": "code",
        "colab": {
          "base_uri": "https://localhost:8080/",
          "height": 71
        },
        "outputId": "78749219-b9c1-4ddb-a934-5331d5e2b0ff"
      },
      "source": [
        "line"
      ],
      "execution_count": 3,
      "outputs": [
        {
          "output_type": "execute_result",
          "data": {
            "text/plain": [
              "array([0., 0., 0., 0., 0., 0., 0., 0., 0., 1., 0., 0., 0., 0., 0., 1., 0.,\n",
              "       0., 0., 0., 0., 0., 0., 0., 0., 1., 0., 0., 0., 0.])"
            ]
          },
          "metadata": {
            "tags": []
          },
          "execution_count": 3
        }
      ]
    },
    {
      "cell_type": "code",
      "metadata": {
        "id": "ixnyi1GfHozg",
        "colab_type": "code",
        "colab": {}
      },
      "source": [
        "class point:\n",
        "  def __init__(self):\n",
        "    self.position = random.randint(0,20)\n",
        "    self.noise = 0\n",
        " \n",
        "  def set(self, position):\n",
        "    self.position = position\n",
        " \n",
        "  def move(self, dist):\n",
        "    self.position = (self.position + dist)%len(line)\n",
        "  \n",
        "  def set_noise(self, noise):\n",
        "    self.noise = noise\n",
        " \n",
        "  def get_reading(self):\n",
        "    rtn = []\n",
        "    for door in door_position:\n",
        "      rtn.append(abs(door - self.position))\n",
        "    return rtn\n",
        "  \n",
        "  def gaussian(self, mu, sigma, x):\n",
        "    return float(exp(- ((mu - x) ** 2) / (sigma ** 2) / 2.0) / sqrt(2.0 * pi * (sigma ** 2)))\n",
        "  \n",
        "  def measurement_prob(self, measurement):\n",
        "    prob = 1.0\n",
        "    reading = self.get_reading()\n",
        "    for i in range(3):\n",
        "      prob *= self.gaussian(reading[i], self.noise, measurement[i])\n",
        "    return prob\n",
        "  \n",
        "  def __repr__(self):\n",
        "    return '[position='+str(self.position)+', reading='+str(self.get_reading())+']'"
      ],
      "execution_count": 27,
      "outputs": []
    },
    {
      "cell_type": "code",
      "metadata": {
        "id": "IouLfDWXO1Gt",
        "colab_type": "code",
        "colab": {
          "base_uri": "https://localhost:8080/",
          "height": 210
        },
        "outputId": "57a0a3dd-468c-4937-e8c3-0e75a04a0d97"
      },
      "source": [
        "N = 10\n",
        "p = []\n",
        " \n",
        "for _ in range(N):\n",
        "  x = point()\n",
        "  x.set_noise(0.5)\n",
        "  p.append(x)\n",
        "p"
      ],
      "execution_count": 5,
      "outputs": [
        {
          "output_type": "execute_result",
          "data": {
            "text/plain": [
              "[[position=11, reading=[2, 4, 14]],\n",
              " [position=16, reading=[7, 1, 9]],\n",
              " [position=16, reading=[7, 1, 9]],\n",
              " [position=10, reading=[1, 5, 15]],\n",
              " [position=19, reading=[10, 4, 6]],\n",
              " [position=15, reading=[6, 0, 10]],\n",
              " [position=19, reading=[10, 4, 6]],\n",
              " [position=13, reading=[4, 2, 12]],\n",
              " [position=18, reading=[9, 3, 7]],\n",
              " [position=16, reading=[7, 1, 9]]]"
            ]
          },
          "metadata": {
            "tags": []
          },
          "execution_count": 5
        }
      ]
    },
    {
      "cell_type": "code",
      "metadata": {
        "id": "UKX-mIuPPIEh",
        "colab_type": "code",
        "colab": {}
      },
      "source": [
        "actual_point = point()\n",
        "\n",
        "actual_point.set(5)\n",
        "actual_point.set_noise(0.5)\n",
        "Z = actual_point.get_reading()"
      ],
      "execution_count": 6,
      "outputs": []
    },
    {
      "cell_type": "code",
      "metadata": {
        "id": "TxEucgrkiJWN",
        "colab_type": "code",
        "colab": {}
      },
      "source": [
        ""
      ],
      "execution_count": 6,
      "outputs": []
    },
    {
      "cell_type": "code",
      "metadata": {
        "id": "clnRLsgaPhBO",
        "colab_type": "code",
        "colab": {
          "base_uri": "https://localhost:8080/",
          "height": 363
        },
        "outputId": "fcc8b381-8402-4658-b6de-68602ce6ce82"
      },
      "source": [
        "N = 100\n",
        "T = 10\n",
        " \n",
        "# random points\n",
        "p = []\n",
        " \n",
        "for _ in range(N):\n",
        "  x = point()\n",
        "  x.set_noise(0.5)\n",
        "  p.append(x)\n",
        "#print(p[i].measurement_prob(1))\n",
        " \n",
        "for rd in range(T):\n",
        "  actual_point.move(2)\n",
        "  Z = actual_point.get_reading()\n",
        "  #print(actual_point)\n",
        "  \n",
        "  p2 = []\n",
        "  for i in range(N):\n",
        "    p[i].move(2)\n",
        "    p2.append(p[i])\n",
        "  p = p2\n",
        " \n",
        "  # weight\n",
        "  w = []\n",
        "  for poi in p:\n",
        "    prob = poi.measurement_prob(Z)\n",
        "    w.append(prob)\n",
        "  #print(w)\n",
        " \n",
        "  #resampling\n",
        "  p3 = []\n",
        "  #normal weights\n",
        "  norm_w = np.true_divide(w, np.sum(w, dtype='float'), where=(w!=0), dtype='float')\n",
        "  #print(np.sum(w))\n",
        "  #print(norm_w)\n",
        "  index = [np.random.choice(np.arange(0, N), p = norm_w) for i in range(N)]\n",
        " \n",
        "  for i in index:\n",
        "    p3.append(p[i])\n",
        " \n",
        "  for i in range(10):\n",
        "    p3[i] = point()\n",
        "    p3[i].set_noise(0.5)\n",
        "  p = p3\n",
        " \n",
        "  output = np.zeros(len(line))\n",
        "  for i in p:\n",
        "    output[i.position] += 1\n",
        "  print('actual potition:',actual_point.position)\n",
        "  print('best estimate:',output.tolist().index(max(output)))"
      ],
      "execution_count": 38,
      "outputs": [
        {
          "output_type": "stream",
          "text": [
            "actual potition: 1\n",
            "best estimate: 2\n",
            "actual potition: 3\n",
            "best estimate: 2\n",
            "actual potition: 5\n",
            "best estimate: 2\n",
            "actual potition: 7\n",
            "best estimate: 7\n",
            "actual potition: 9\n",
            "best estimate: 8\n",
            "actual potition: 11\n",
            "best estimate: 9\n",
            "actual potition: 13\n",
            "best estimate: 13\n",
            "actual potition: 15\n",
            "best estimate: 15\n",
            "actual potition: 17\n",
            "best estimate: 17\n",
            "actual potition: 19\n",
            "best estimate: 19\n"
          ],
          "name": "stdout"
        }
      ]
    },
    {
      "cell_type": "code",
      "metadata": {
        "id": "XfOijKrmTEZD",
        "colab_type": "code",
        "colab": {}
      },
      "source": [
        ""
      ],
      "execution_count": null,
      "outputs": []
    }
  ]
}